{
 "cells": [
  {
   "cell_type": "markdown",
   "metadata": {
    "slideshow": {
     "slide_type": "slide"
    }
   },
   "source": [
    "# Videogames sales\n",
    "* Dataset obtained from the website https://www.kaggle.com/\n",
    "* Direct link: https://www.kaggle.com/rush4ratio/video-game-sales-with-ratings (requires a Kaggle account)\n",
    "* Sales (and ratings) of videogames\n",
    "* Updated to 2016\n",
    "* Used fields:\n",
    "    * Name\n",
    "    * Year_of_Release\n",
    "    * Platform: {PC | PlayStation | PlayStation 2 | XBOX | ... }\n",
    "    * Publisher: {Nintendo | Electronic Arts | Ubisoft ...}\n",
    "    * Genre: {Action | Sports | Shooter, ...} \n",
    "    * NA_Sales: total sales of the game in North America (millions of units)\n",
    "    * EU_Sales: total sales in Europe (millions of units)\n",
    "    * JP_Sales: total sales in Japan (millions of units)\n",
    "    * Other_Sales: total sales in other regions (millions of units)\n",
    "    * User_Score: game score from users \n",
    "    * Critit_Score: game score given by critics "
   ]
  },
  {
   "cell_type": "markdown",
   "metadata": {
    "slideshow": {
     "slide_type": "fragment"
    }
   },
   "source": [
    "We analyze several aspects of the global videogame market:  \n",
    " * Most popular Platforms and Genres (also over time)\n",
    " * Correlation of sales in different regions of the world\n",
    " * User_Score vs. Critic_Score\n",
    " * Close look at certain events in the videogame industry: console wars"
   ]
  },
  {
   "cell_type": "markdown",
   "metadata": {
    "slideshow": {
     "slide_type": "slide"
    }
   },
   "source": [
    "### Load dataset"
   ]
  },
  {
   "cell_type": "code",
   "execution_count": 1,
   "metadata": {
    "pycharm": {
     "name": "#%%\n"
    },
    "slideshow": {
     "slide_type": "-"
    }
   },
   "outputs": [],
   "source": [
    "import pandas as pd\n",
    "import numpy as np\n",
    "import matplotlib.pyplot as plt\n",
    "import plotly.express as px\n",
    "import seaborn as sns"
   ]
  },
  {
   "cell_type": "code",
   "execution_count": 2,
   "metadata": {
    "pycharm": {
     "name": "#%%\n"
    }
   },
   "outputs": [],
   "source": [
    "plt.rcParams['figure.figsize'] = [15, 8]\n",
    "plt.rcParams['font.size'] = 20"
   ]
  },
  {
   "cell_type": "code",
   "execution_count": 3,
   "metadata": {
    "pycharm": {
     "name": "#%%\n"
    }
   },
   "outputs": [
    {
     "data": {
      "text/html": [
       "<div>\n",
       "<style scoped>\n",
       "    .dataframe tbody tr th:only-of-type {\n",
       "        vertical-align: middle;\n",
       "    }\n",
       "\n",
       "    .dataframe tbody tr th {\n",
       "        vertical-align: top;\n",
       "    }\n",
       "\n",
       "    .dataframe thead th {\n",
       "        text-align: right;\n",
       "    }\n",
       "</style>\n",
       "<table border=\"1\" class=\"dataframe\">\n",
       "  <thead>\n",
       "    <tr style=\"text-align: right;\">\n",
       "      <th></th>\n",
       "      <th>Name</th>\n",
       "      <th>Platform</th>\n",
       "      <th>Year_of_Release</th>\n",
       "      <th>Genre</th>\n",
       "      <th>Publisher</th>\n",
       "      <th>NA_Sales</th>\n",
       "      <th>EU_Sales</th>\n",
       "      <th>JP_Sales</th>\n",
       "      <th>Other_Sales</th>\n",
       "      <th>Global_Sales</th>\n",
       "      <th>Critic_Score</th>\n",
       "      <th>Critic_Count</th>\n",
       "      <th>User_Score</th>\n",
       "      <th>User_Count</th>\n",
       "      <th>Developer</th>\n",
       "      <th>Rating</th>\n",
       "    </tr>\n",
       "  </thead>\n",
       "  <tbody>\n",
       "    <tr>\n",
       "      <th>16427</th>\n",
       "      <td>Cities: Skylines Snowfall</td>\n",
       "      <td>PC</td>\n",
       "      <td>2016.0</td>\n",
       "      <td>Simulation</td>\n",
       "      <td>Paradox Development</td>\n",
       "      <td>0.00</td>\n",
       "      <td>0.01</td>\n",
       "      <td>0.00</td>\n",
       "      <td>0.00</td>\n",
       "      <td>0.01</td>\n",
       "      <td>72.0</td>\n",
       "      <td>16.0</td>\n",
       "      <td>7.1</td>\n",
       "      <td>20.0</td>\n",
       "      <td>Colossal Order</td>\n",
       "      <td>NaN</td>\n",
       "    </tr>\n",
       "    <tr>\n",
       "      <th>8341</th>\n",
       "      <td>Space Griffon VF-9</td>\n",
       "      <td>PS</td>\n",
       "      <td>1995.0</td>\n",
       "      <td>Role-Playing</td>\n",
       "      <td>Panther Software</td>\n",
       "      <td>0.02</td>\n",
       "      <td>0.02</td>\n",
       "      <td>0.12</td>\n",
       "      <td>0.01</td>\n",
       "      <td>0.17</td>\n",
       "      <td>NaN</td>\n",
       "      <td>NaN</td>\n",
       "      <td>NaN</td>\n",
       "      <td>NaN</td>\n",
       "      <td>NaN</td>\n",
       "      <td>NaN</td>\n",
       "    </tr>\n",
       "    <tr>\n",
       "      <th>3592</th>\n",
       "      <td>Dogz</td>\n",
       "      <td>DS</td>\n",
       "      <td>2006.0</td>\n",
       "      <td>Simulation</td>\n",
       "      <td>Ubisoft</td>\n",
       "      <td>0.50</td>\n",
       "      <td>0.01</td>\n",
       "      <td>0.00</td>\n",
       "      <td>0.04</td>\n",
       "      <td>0.56</td>\n",
       "      <td>NaN</td>\n",
       "      <td>NaN</td>\n",
       "      <td>7.8</td>\n",
       "      <td>9.0</td>\n",
       "      <td>MTO</td>\n",
       "      <td>E</td>\n",
       "    </tr>\n",
       "    <tr>\n",
       "      <th>12764</th>\n",
       "      <td>Hakuoki: Stories of the Shinsengumi</td>\n",
       "      <td>PS3</td>\n",
       "      <td>2010.0</td>\n",
       "      <td>Adventure</td>\n",
       "      <td>Idea Factory</td>\n",
       "      <td>0.03</td>\n",
       "      <td>0.00</td>\n",
       "      <td>0.03</td>\n",
       "      <td>0.01</td>\n",
       "      <td>0.06</td>\n",
       "      <td>NaN</td>\n",
       "      <td>NaN</td>\n",
       "      <td>6.5</td>\n",
       "      <td>10.0</td>\n",
       "      <td>Design Factory</td>\n",
       "      <td>M</td>\n",
       "    </tr>\n",
       "    <tr>\n",
       "      <th>2988</th>\n",
       "      <td>Fight Night 2004</td>\n",
       "      <td>XB</td>\n",
       "      <td>2004.0</td>\n",
       "      <td>Fighting</td>\n",
       "      <td>Electronic Arts</td>\n",
       "      <td>0.51</td>\n",
       "      <td>0.15</td>\n",
       "      <td>0.00</td>\n",
       "      <td>0.02</td>\n",
       "      <td>0.68</td>\n",
       "      <td>85.0</td>\n",
       "      <td>47.0</td>\n",
       "      <td>8.7</td>\n",
       "      <td>20.0</td>\n",
       "      <td>EA Sports</td>\n",
       "      <td>T</td>\n",
       "    </tr>\n",
       "    <tr>\n",
       "      <th>4870</th>\n",
       "      <td>Planet 51</td>\n",
       "      <td>DS</td>\n",
       "      <td>2009.0</td>\n",
       "      <td>Action</td>\n",
       "      <td>Sega</td>\n",
       "      <td>0.22</td>\n",
       "      <td>0.14</td>\n",
       "      <td>0.00</td>\n",
       "      <td>0.04</td>\n",
       "      <td>0.39</td>\n",
       "      <td>NaN</td>\n",
       "      <td>NaN</td>\n",
       "      <td>tbd</td>\n",
       "      <td>NaN</td>\n",
       "      <td>Firebrand Games</td>\n",
       "      <td>E</td>\n",
       "    </tr>\n",
       "    <tr>\n",
       "      <th>2395</th>\n",
       "      <td>NHL 2000</td>\n",
       "      <td>PS</td>\n",
       "      <td>1998.0</td>\n",
       "      <td>Sports</td>\n",
       "      <td>Electronic Arts</td>\n",
       "      <td>0.48</td>\n",
       "      <td>0.33</td>\n",
       "      <td>0.00</td>\n",
       "      <td>0.06</td>\n",
       "      <td>0.87</td>\n",
       "      <td>NaN</td>\n",
       "      <td>NaN</td>\n",
       "      <td>NaN</td>\n",
       "      <td>NaN</td>\n",
       "      <td>NaN</td>\n",
       "      <td>NaN</td>\n",
       "    </tr>\n",
       "    <tr>\n",
       "      <th>12480</th>\n",
       "      <td>Bubble Bobble: Old &amp; New</td>\n",
       "      <td>GBA</td>\n",
       "      <td>2002.0</td>\n",
       "      <td>Puzzle</td>\n",
       "      <td>Empire Interactive</td>\n",
       "      <td>0.04</td>\n",
       "      <td>0.02</td>\n",
       "      <td>0.00</td>\n",
       "      <td>0.00</td>\n",
       "      <td>0.06</td>\n",
       "      <td>NaN</td>\n",
       "      <td>NaN</td>\n",
       "      <td>NaN</td>\n",
       "      <td>NaN</td>\n",
       "      <td>NaN</td>\n",
       "      <td>NaN</td>\n",
       "    </tr>\n",
       "    <tr>\n",
       "      <th>8697</th>\n",
       "      <td>Wing Commander III: Heart of the Tiger</td>\n",
       "      <td>PS</td>\n",
       "      <td>1996.0</td>\n",
       "      <td>Action</td>\n",
       "      <td>Electronic Arts</td>\n",
       "      <td>0.09</td>\n",
       "      <td>0.06</td>\n",
       "      <td>0.00</td>\n",
       "      <td>0.01</td>\n",
       "      <td>0.16</td>\n",
       "      <td>NaN</td>\n",
       "      <td>NaN</td>\n",
       "      <td>NaN</td>\n",
       "      <td>NaN</td>\n",
       "      <td>NaN</td>\n",
       "      <td>NaN</td>\n",
       "    </tr>\n",
       "    <tr>\n",
       "      <th>1213</th>\n",
       "      <td>Warcraft III: The Frozen Throne</td>\n",
       "      <td>PC</td>\n",
       "      <td>2003.0</td>\n",
       "      <td>Strategy</td>\n",
       "      <td>Activision</td>\n",
       "      <td>0.58</td>\n",
       "      <td>0.87</td>\n",
       "      <td>0.00</td>\n",
       "      <td>0.09</td>\n",
       "      <td>1.54</td>\n",
       "      <td>88.0</td>\n",
       "      <td>23.0</td>\n",
       "      <td>9</td>\n",
       "      <td>713.0</td>\n",
       "      <td>Blizzard Entertainment</td>\n",
       "      <td>T</td>\n",
       "    </tr>\n",
       "    <tr>\n",
       "      <th>2061</th>\n",
       "      <td>Dead or Alive 2</td>\n",
       "      <td>PS2</td>\n",
       "      <td>2000.0</td>\n",
       "      <td>Fighting</td>\n",
       "      <td>Tecmo Koei</td>\n",
       "      <td>0.30</td>\n",
       "      <td>0.24</td>\n",
       "      <td>0.38</td>\n",
       "      <td>0.08</td>\n",
       "      <td>1.00</td>\n",
       "      <td>NaN</td>\n",
       "      <td>NaN</td>\n",
       "      <td>NaN</td>\n",
       "      <td>NaN</td>\n",
       "      <td>NaN</td>\n",
       "      <td>NaN</td>\n",
       "    </tr>\n",
       "    <tr>\n",
       "      <th>14161</th>\n",
       "      <td>Infamous: First Light</td>\n",
       "      <td>PS4</td>\n",
       "      <td>2014.0</td>\n",
       "      <td>Action</td>\n",
       "      <td>Sony Computer Entertainment</td>\n",
       "      <td>0.00</td>\n",
       "      <td>0.03</td>\n",
       "      <td>0.00</td>\n",
       "      <td>0.00</td>\n",
       "      <td>0.03</td>\n",
       "      <td>73.0</td>\n",
       "      <td>70.0</td>\n",
       "      <td>7.5</td>\n",
       "      <td>580.0</td>\n",
       "      <td>Sucker Punch</td>\n",
       "      <td>T</td>\n",
       "    </tr>\n",
       "    <tr>\n",
       "      <th>16626</th>\n",
       "      <td>World Snooker Championship 2007</td>\n",
       "      <td>X360</td>\n",
       "      <td>2007.0</td>\n",
       "      <td>Sports</td>\n",
       "      <td>Sega</td>\n",
       "      <td>0.00</td>\n",
       "      <td>0.01</td>\n",
       "      <td>0.00</td>\n",
       "      <td>0.00</td>\n",
       "      <td>0.01</td>\n",
       "      <td>NaN</td>\n",
       "      <td>NaN</td>\n",
       "      <td>NaN</td>\n",
       "      <td>NaN</td>\n",
       "      <td>NaN</td>\n",
       "      <td>NaN</td>\n",
       "    </tr>\n",
       "    <tr>\n",
       "      <th>1750</th>\n",
       "      <td>Mega Man X</td>\n",
       "      <td>SNES</td>\n",
       "      <td>1993.0</td>\n",
       "      <td>Platform</td>\n",
       "      <td>Capcom</td>\n",
       "      <td>0.57</td>\n",
       "      <td>0.08</td>\n",
       "      <td>0.50</td>\n",
       "      <td>0.01</td>\n",
       "      <td>1.16</td>\n",
       "      <td>NaN</td>\n",
       "      <td>NaN</td>\n",
       "      <td>NaN</td>\n",
       "      <td>NaN</td>\n",
       "      <td>NaN</td>\n",
       "      <td>NaN</td>\n",
       "    </tr>\n",
       "    <tr>\n",
       "      <th>10874</th>\n",
       "      <td>Burnout Paradise: The Ultimate Box</td>\n",
       "      <td>PC</td>\n",
       "      <td>2009.0</td>\n",
       "      <td>Racing</td>\n",
       "      <td>Electronic Arts</td>\n",
       "      <td>0.00</td>\n",
       "      <td>0.08</td>\n",
       "      <td>0.00</td>\n",
       "      <td>0.01</td>\n",
       "      <td>0.09</td>\n",
       "      <td>87.0</td>\n",
       "      <td>26.0</td>\n",
       "      <td>7.5</td>\n",
       "      <td>435.0</td>\n",
       "      <td>Criterion Games</td>\n",
       "      <td>E10+</td>\n",
       "    </tr>\n",
       "    <tr>\n",
       "      <th>16126</th>\n",
       "      <td>WRC 5: FIA World Rally Championship</td>\n",
       "      <td>XOne</td>\n",
       "      <td>2015.0</td>\n",
       "      <td>Sports</td>\n",
       "      <td>Bigben Interactive</td>\n",
       "      <td>0.00</td>\n",
       "      <td>0.01</td>\n",
       "      <td>0.00</td>\n",
       "      <td>0.00</td>\n",
       "      <td>0.01</td>\n",
       "      <td>NaN</td>\n",
       "      <td>NaN</td>\n",
       "      <td>NaN</td>\n",
       "      <td>NaN</td>\n",
       "      <td>NaN</td>\n",
       "      <td>NaN</td>\n",
       "    </tr>\n",
       "    <tr>\n",
       "      <th>13867</th>\n",
       "      <td>Ookami to Koushinryou: Boku to Horo no Ichinen</td>\n",
       "      <td>DS</td>\n",
       "      <td>2008.0</td>\n",
       "      <td>Adventure</td>\n",
       "      <td>ASCII Media Works</td>\n",
       "      <td>0.00</td>\n",
       "      <td>0.00</td>\n",
       "      <td>0.04</td>\n",
       "      <td>0.00</td>\n",
       "      <td>0.04</td>\n",
       "      <td>NaN</td>\n",
       "      <td>NaN</td>\n",
       "      <td>NaN</td>\n",
       "      <td>NaN</td>\n",
       "      <td>NaN</td>\n",
       "      <td>NaN</td>\n",
       "    </tr>\n",
       "    <tr>\n",
       "      <th>16368</th>\n",
       "      <td>Kurogane Kaikitan</td>\n",
       "      <td>PSV</td>\n",
       "      <td>2015.0</td>\n",
       "      <td>Adventure</td>\n",
       "      <td>Minato Station</td>\n",
       "      <td>0.00</td>\n",
       "      <td>0.00</td>\n",
       "      <td>0.01</td>\n",
       "      <td>0.00</td>\n",
       "      <td>0.01</td>\n",
       "      <td>NaN</td>\n",
       "      <td>NaN</td>\n",
       "      <td>NaN</td>\n",
       "      <td>NaN</td>\n",
       "      <td>NaN</td>\n",
       "      <td>NaN</td>\n",
       "    </tr>\n",
       "    <tr>\n",
       "      <th>15907</th>\n",
       "      <td>Tsuyo Kiss 2 Gakki: Swift Love</td>\n",
       "      <td>PS2</td>\n",
       "      <td>2009.0</td>\n",
       "      <td>Adventure</td>\n",
       "      <td>Revolution (Japan)</td>\n",
       "      <td>0.00</td>\n",
       "      <td>0.00</td>\n",
       "      <td>0.02</td>\n",
       "      <td>0.00</td>\n",
       "      <td>0.02</td>\n",
       "      <td>NaN</td>\n",
       "      <td>NaN</td>\n",
       "      <td>NaN</td>\n",
       "      <td>NaN</td>\n",
       "      <td>NaN</td>\n",
       "      <td>NaN</td>\n",
       "    </tr>\n",
       "    <tr>\n",
       "      <th>11355</th>\n",
       "      <td>Tokimeki Memorial: Girl's Side</td>\n",
       "      <td>PS2</td>\n",
       "      <td>2002.0</td>\n",
       "      <td>Adventure</td>\n",
       "      <td>Konami Digital Entertainment</td>\n",
       "      <td>0.00</td>\n",
       "      <td>0.00</td>\n",
       "      <td>0.08</td>\n",
       "      <td>0.00</td>\n",
       "      <td>0.08</td>\n",
       "      <td>NaN</td>\n",
       "      <td>NaN</td>\n",
       "      <td>NaN</td>\n",
       "      <td>NaN</td>\n",
       "      <td>NaN</td>\n",
       "      <td>NaN</td>\n",
       "    </tr>\n",
       "  </tbody>\n",
       "</table>\n",
       "</div>"
      ],
      "text/plain": [
       "                                                 Name Platform  \\\n",
       "16427                       Cities: Skylines Snowfall       PC   \n",
       "8341                               Space Griffon VF-9       PS   \n",
       "3592                                             Dogz       DS   \n",
       "12764             Hakuoki: Stories of the Shinsengumi      PS3   \n",
       "2988                                 Fight Night 2004       XB   \n",
       "4870                                        Planet 51       DS   \n",
       "2395                                         NHL 2000       PS   \n",
       "12480                        Bubble Bobble: Old & New      GBA   \n",
       "8697           Wing Commander III: Heart of the Tiger       PS   \n",
       "1213                  Warcraft III: The Frozen Throne       PC   \n",
       "2061                                  Dead or Alive 2      PS2   \n",
       "14161                           Infamous: First Light      PS4   \n",
       "16626                 World Snooker Championship 2007     X360   \n",
       "1750                                       Mega Man X     SNES   \n",
       "10874              Burnout Paradise: The Ultimate Box       PC   \n",
       "16126             WRC 5: FIA World Rally Championship     XOne   \n",
       "13867  Ookami to Koushinryou: Boku to Horo no Ichinen       DS   \n",
       "16368                               Kurogane Kaikitan      PSV   \n",
       "15907                  Tsuyo Kiss 2 Gakki: Swift Love      PS2   \n",
       "11355                  Tokimeki Memorial: Girl's Side      PS2   \n",
       "\n",
       "       Year_of_Release         Genre                     Publisher  NA_Sales  \\\n",
       "16427           2016.0    Simulation           Paradox Development      0.00   \n",
       "8341            1995.0  Role-Playing              Panther Software      0.02   \n",
       "3592            2006.0    Simulation                       Ubisoft      0.50   \n",
       "12764           2010.0     Adventure                  Idea Factory      0.03   \n",
       "2988            2004.0      Fighting               Electronic Arts      0.51   \n",
       "4870            2009.0        Action                          Sega      0.22   \n",
       "2395            1998.0        Sports               Electronic Arts      0.48   \n",
       "12480           2002.0        Puzzle            Empire Interactive      0.04   \n",
       "8697            1996.0        Action               Electronic Arts      0.09   \n",
       "1213            2003.0      Strategy                    Activision      0.58   \n",
       "2061            2000.0      Fighting                    Tecmo Koei      0.30   \n",
       "14161           2014.0        Action   Sony Computer Entertainment      0.00   \n",
       "16626           2007.0        Sports                          Sega      0.00   \n",
       "1750            1993.0      Platform                        Capcom      0.57   \n",
       "10874           2009.0        Racing               Electronic Arts      0.00   \n",
       "16126           2015.0        Sports            Bigben Interactive      0.00   \n",
       "13867           2008.0     Adventure             ASCII Media Works      0.00   \n",
       "16368           2015.0     Adventure                Minato Station      0.00   \n",
       "15907           2009.0     Adventure            Revolution (Japan)      0.00   \n",
       "11355           2002.0     Adventure  Konami Digital Entertainment      0.00   \n",
       "\n",
       "       EU_Sales  JP_Sales  Other_Sales  Global_Sales  Critic_Score  \\\n",
       "16427      0.01      0.00         0.00          0.01          72.0   \n",
       "8341       0.02      0.12         0.01          0.17           NaN   \n",
       "3592       0.01      0.00         0.04          0.56           NaN   \n",
       "12764      0.00      0.03         0.01          0.06           NaN   \n",
       "2988       0.15      0.00         0.02          0.68          85.0   \n",
       "4870       0.14      0.00         0.04          0.39           NaN   \n",
       "2395       0.33      0.00         0.06          0.87           NaN   \n",
       "12480      0.02      0.00         0.00          0.06           NaN   \n",
       "8697       0.06      0.00         0.01          0.16           NaN   \n",
       "1213       0.87      0.00         0.09          1.54          88.0   \n",
       "2061       0.24      0.38         0.08          1.00           NaN   \n",
       "14161      0.03      0.00         0.00          0.03          73.0   \n",
       "16626      0.01      0.00         0.00          0.01           NaN   \n",
       "1750       0.08      0.50         0.01          1.16           NaN   \n",
       "10874      0.08      0.00         0.01          0.09          87.0   \n",
       "16126      0.01      0.00         0.00          0.01           NaN   \n",
       "13867      0.00      0.04         0.00          0.04           NaN   \n",
       "16368      0.00      0.01         0.00          0.01           NaN   \n",
       "15907      0.00      0.02         0.00          0.02           NaN   \n",
       "11355      0.00      0.08         0.00          0.08           NaN   \n",
       "\n",
       "       Critic_Count User_Score  User_Count               Developer Rating  \n",
       "16427          16.0        7.1        20.0          Colossal Order    NaN  \n",
       "8341            NaN        NaN         NaN                     NaN    NaN  \n",
       "3592            NaN        7.8         9.0                     MTO      E  \n",
       "12764           NaN        6.5        10.0          Design Factory      M  \n",
       "2988           47.0        8.7        20.0               EA Sports      T  \n",
       "4870            NaN        tbd         NaN         Firebrand Games      E  \n",
       "2395            NaN        NaN         NaN                     NaN    NaN  \n",
       "12480           NaN        NaN         NaN                     NaN    NaN  \n",
       "8697            NaN        NaN         NaN                     NaN    NaN  \n",
       "1213           23.0          9       713.0  Blizzard Entertainment      T  \n",
       "2061            NaN        NaN         NaN                     NaN    NaN  \n",
       "14161          70.0        7.5       580.0            Sucker Punch      T  \n",
       "16626           NaN        NaN         NaN                     NaN    NaN  \n",
       "1750            NaN        NaN         NaN                     NaN    NaN  \n",
       "10874          26.0        7.5       435.0         Criterion Games   E10+  \n",
       "16126           NaN        NaN         NaN                     NaN    NaN  \n",
       "13867           NaN        NaN         NaN                     NaN    NaN  \n",
       "16368           NaN        NaN         NaN                     NaN    NaN  \n",
       "15907           NaN        NaN         NaN                     NaN    NaN  \n",
       "11355           NaN        NaN         NaN                     NaN    NaN  "
      ]
     },
     "execution_count": 3,
     "metadata": {},
     "output_type": "execute_result"
    }
   ],
   "source": [
    "data = pd.read_csv(\"Video_Games_Sales_as_at_22_Dec_2016.csv\")\n",
    "data.sample(20)"
   ]
  },
  {
   "cell_type": "markdown",
   "metadata": {
    "slideshow": {
     "slide_type": "slide"
    }
   },
   "source": [
    "### Cleanup: Nan Handling\n",
    "\n",
    "Zero sales is likely to be a missing data (or product not released in that region).\n",
    "\n",
    "We replace these misleading zeros to ``np.nan`` to avoid ambiguity."
   ]
  },
  {
   "cell_type": "code",
   "execution_count": 4,
   "metadata": {
    "pycharm": {
     "name": "#%%\n"
    }
   },
   "outputs": [],
   "source": [
    "data['NA_Sales'] = data['NA_Sales'].replace(0, np.nan)\n",
    "data['EU_Sales'] = data['EU_Sales'].replace(0, np.nan)\n",
    "data['JP_Sales'] = data['JP_Sales'].replace(0, np.nan)\n",
    "data['Global_Sales'] = data['Global_Sales'].replace(0, np.nan)"
   ]
  },
  {
   "cell_type": "code",
   "execution_count": 5,
   "metadata": {
    "pycharm": {
     "name": "#%%\n"
    }
   },
   "outputs": [
    {
     "data": {
      "text/html": [
       "<div>\n",
       "<style scoped>\n",
       "    .dataframe tbody tr th:only-of-type {\n",
       "        vertical-align: middle;\n",
       "    }\n",
       "\n",
       "    .dataframe tbody tr th {\n",
       "        vertical-align: top;\n",
       "    }\n",
       "\n",
       "    .dataframe thead th {\n",
       "        text-align: right;\n",
       "    }\n",
       "</style>\n",
       "<table border=\"1\" class=\"dataframe\">\n",
       "  <thead>\n",
       "    <tr style=\"text-align: right;\">\n",
       "      <th></th>\n",
       "      <th>Name</th>\n",
       "      <th>Platform</th>\n",
       "      <th>Year_of_Release</th>\n",
       "      <th>Genre</th>\n",
       "      <th>Publisher</th>\n",
       "      <th>NA_Sales</th>\n",
       "      <th>EU_Sales</th>\n",
       "      <th>JP_Sales</th>\n",
       "      <th>Other_Sales</th>\n",
       "      <th>Global_Sales</th>\n",
       "      <th>Critic_Score</th>\n",
       "      <th>Critic_Count</th>\n",
       "      <th>User_Score</th>\n",
       "      <th>User_Count</th>\n",
       "      <th>Developer</th>\n",
       "      <th>Rating</th>\n",
       "    </tr>\n",
       "  </thead>\n",
       "  <tbody>\n",
       "    <tr>\n",
       "      <th>2026</th>\n",
       "      <td>Sonic Unleashed</td>\n",
       "      <td>PS3</td>\n",
       "      <td>2008.0</td>\n",
       "      <td>Platform</td>\n",
       "      <td>Sega</td>\n",
       "      <td>0.56</td>\n",
       "      <td>0.32</td>\n",
       "      <td>0.01</td>\n",
       "      <td>0.14</td>\n",
       "      <td>1.02</td>\n",
       "      <td>54.0</td>\n",
       "      <td>24.0</td>\n",
       "      <td>7.9</td>\n",
       "      <td>130.0</td>\n",
       "      <td>Sonic Team</td>\n",
       "      <td>E10+</td>\n",
       "    </tr>\n",
       "    <tr>\n",
       "      <th>14343</th>\n",
       "      <td>Nobunaga no Yabou: Kakushin with Power-Up Kit</td>\n",
       "      <td>PS2</td>\n",
       "      <td>2008.0</td>\n",
       "      <td>Strategy</td>\n",
       "      <td>Tecmo Koei</td>\n",
       "      <td>NaN</td>\n",
       "      <td>NaN</td>\n",
       "      <td>0.03</td>\n",
       "      <td>0.00</td>\n",
       "      <td>0.03</td>\n",
       "      <td>NaN</td>\n",
       "      <td>NaN</td>\n",
       "      <td>NaN</td>\n",
       "      <td>NaN</td>\n",
       "      <td>NaN</td>\n",
       "      <td>NaN</td>\n",
       "    </tr>\n",
       "    <tr>\n",
       "      <th>15957</th>\n",
       "      <td>Kiss Bell</td>\n",
       "      <td>PSV</td>\n",
       "      <td>2014.0</td>\n",
       "      <td>Adventure</td>\n",
       "      <td>Giga</td>\n",
       "      <td>NaN</td>\n",
       "      <td>NaN</td>\n",
       "      <td>0.02</td>\n",
       "      <td>0.00</td>\n",
       "      <td>0.02</td>\n",
       "      <td>NaN</td>\n",
       "      <td>NaN</td>\n",
       "      <td>NaN</td>\n",
       "      <td>NaN</td>\n",
       "      <td>NaN</td>\n",
       "      <td>NaN</td>\n",
       "    </tr>\n",
       "    <tr>\n",
       "      <th>9733</th>\n",
       "      <td>Eyeshield 21: Max Devil Power</td>\n",
       "      <td>DS</td>\n",
       "      <td>2006.0</td>\n",
       "      <td>Role-Playing</td>\n",
       "      <td>Nintendo</td>\n",
       "      <td>NaN</td>\n",
       "      <td>NaN</td>\n",
       "      <td>0.12</td>\n",
       "      <td>0.00</td>\n",
       "      <td>0.12</td>\n",
       "      <td>NaN</td>\n",
       "      <td>NaN</td>\n",
       "      <td>NaN</td>\n",
       "      <td>NaN</td>\n",
       "      <td>NaN</td>\n",
       "      <td>NaN</td>\n",
       "    </tr>\n",
       "    <tr>\n",
       "      <th>188</th>\n",
       "      <td>Professor Layton and the Curious Village</td>\n",
       "      <td>DS</td>\n",
       "      <td>2007.0</td>\n",
       "      <td>Puzzle</td>\n",
       "      <td>Nintendo</td>\n",
       "      <td>1.21</td>\n",
       "      <td>2.43</td>\n",
       "      <td>1.03</td>\n",
       "      <td>0.52</td>\n",
       "      <td>5.19</td>\n",
       "      <td>85.0</td>\n",
       "      <td>72.0</td>\n",
       "      <td>8.6</td>\n",
       "      <td>147.0</td>\n",
       "      <td>Level 5</td>\n",
       "      <td>E</td>\n",
       "    </tr>\n",
       "    <tr>\n",
       "      <th>12426</th>\n",
       "      <td>Generator Rex: Agent of Providence</td>\n",
       "      <td>X360</td>\n",
       "      <td>2011.0</td>\n",
       "      <td>Action</td>\n",
       "      <td>Activision</td>\n",
       "      <td>0.05</td>\n",
       "      <td>0.01</td>\n",
       "      <td>NaN</td>\n",
       "      <td>0.00</td>\n",
       "      <td>0.06</td>\n",
       "      <td>NaN</td>\n",
       "      <td>NaN</td>\n",
       "      <td>4</td>\n",
       "      <td>6.0</td>\n",
       "      <td>Virtuos</td>\n",
       "      <td>E10+</td>\n",
       "    </tr>\n",
       "    <tr>\n",
       "      <th>2703</th>\n",
       "      <td>Portal 2</td>\n",
       "      <td>PC</td>\n",
       "      <td>2011.0</td>\n",
       "      <td>Shooter</td>\n",
       "      <td>Valve Software</td>\n",
       "      <td>0.33</td>\n",
       "      <td>0.32</td>\n",
       "      <td>NaN</td>\n",
       "      <td>0.10</td>\n",
       "      <td>0.76</td>\n",
       "      <td>95.0</td>\n",
       "      <td>52.0</td>\n",
       "      <td>8.8</td>\n",
       "      <td>5999.0</td>\n",
       "      <td>Valve Software</td>\n",
       "      <td>E10+</td>\n",
       "    </tr>\n",
       "    <tr>\n",
       "      <th>15112</th>\n",
       "      <td>Rengoku II:  The Stairway To H.E.A.V.E.N.</td>\n",
       "      <td>PSP</td>\n",
       "      <td>2006.0</td>\n",
       "      <td>Action</td>\n",
       "      <td>Konami Digital Entertainment</td>\n",
       "      <td>0.02</td>\n",
       "      <td>NaN</td>\n",
       "      <td>NaN</td>\n",
       "      <td>0.00</td>\n",
       "      <td>0.02</td>\n",
       "      <td>51.0</td>\n",
       "      <td>24.0</td>\n",
       "      <td>7.6</td>\n",
       "      <td>14.0</td>\n",
       "      <td>Neverland</td>\n",
       "      <td>T</td>\n",
       "    </tr>\n",
       "    <tr>\n",
       "      <th>3621</th>\n",
       "      <td>Dora The Explorer: Dora Saves the Snow Princess</td>\n",
       "      <td>Wii</td>\n",
       "      <td>2008.0</td>\n",
       "      <td>Platform</td>\n",
       "      <td>Take-Two Interactive</td>\n",
       "      <td>0.49</td>\n",
       "      <td>0.02</td>\n",
       "      <td>NaN</td>\n",
       "      <td>0.04</td>\n",
       "      <td>0.55</td>\n",
       "      <td>47.0</td>\n",
       "      <td>4.0</td>\n",
       "      <td>7</td>\n",
       "      <td>5.0</td>\n",
       "      <td>High Voltage Software</td>\n",
       "      <td>E</td>\n",
       "    </tr>\n",
       "    <tr>\n",
       "      <th>11257</th>\n",
       "      <td>Wacky World of Sports</td>\n",
       "      <td>Wii</td>\n",
       "      <td>2009.0</td>\n",
       "      <td>Sports</td>\n",
       "      <td>Sega</td>\n",
       "      <td>0.08</td>\n",
       "      <td>NaN</td>\n",
       "      <td>NaN</td>\n",
       "      <td>0.01</td>\n",
       "      <td>0.09</td>\n",
       "      <td>45.0</td>\n",
       "      <td>10.0</td>\n",
       "      <td>tbd</td>\n",
       "      <td>NaN</td>\n",
       "      <td>Tabot</td>\n",
       "      <td>E10+</td>\n",
       "    </tr>\n",
       "  </tbody>\n",
       "</table>\n",
       "</div>"
      ],
      "text/plain": [
       "                                                  Name Platform  \\\n",
       "2026                                   Sonic Unleashed      PS3   \n",
       "14343    Nobunaga no Yabou: Kakushin with Power-Up Kit      PS2   \n",
       "15957                                        Kiss Bell      PSV   \n",
       "9733                     Eyeshield 21: Max Devil Power       DS   \n",
       "188           Professor Layton and the Curious Village       DS   \n",
       "12426               Generator Rex: Agent of Providence     X360   \n",
       "2703                                          Portal 2       PC   \n",
       "15112        Rengoku II:  The Stairway To H.E.A.V.E.N.      PSP   \n",
       "3621   Dora The Explorer: Dora Saves the Snow Princess      Wii   \n",
       "11257                            Wacky World of Sports      Wii   \n",
       "\n",
       "       Year_of_Release         Genre                     Publisher  NA_Sales  \\\n",
       "2026            2008.0      Platform                          Sega      0.56   \n",
       "14343           2008.0      Strategy                    Tecmo Koei       NaN   \n",
       "15957           2014.0     Adventure                          Giga       NaN   \n",
       "9733            2006.0  Role-Playing                      Nintendo       NaN   \n",
       "188             2007.0        Puzzle                      Nintendo      1.21   \n",
       "12426           2011.0        Action                    Activision      0.05   \n",
       "2703            2011.0       Shooter                Valve Software      0.33   \n",
       "15112           2006.0        Action  Konami Digital Entertainment      0.02   \n",
       "3621            2008.0      Platform          Take-Two Interactive      0.49   \n",
       "11257           2009.0        Sports                          Sega      0.08   \n",
       "\n",
       "       EU_Sales  JP_Sales  Other_Sales  Global_Sales  Critic_Score  \\\n",
       "2026       0.32      0.01         0.14          1.02          54.0   \n",
       "14343       NaN      0.03         0.00          0.03           NaN   \n",
       "15957       NaN      0.02         0.00          0.02           NaN   \n",
       "9733        NaN      0.12         0.00          0.12           NaN   \n",
       "188        2.43      1.03         0.52          5.19          85.0   \n",
       "12426      0.01       NaN         0.00          0.06           NaN   \n",
       "2703       0.32       NaN         0.10          0.76          95.0   \n",
       "15112       NaN       NaN         0.00          0.02          51.0   \n",
       "3621       0.02       NaN         0.04          0.55          47.0   \n",
       "11257       NaN       NaN         0.01          0.09          45.0   \n",
       "\n",
       "       Critic_Count User_Score  User_Count              Developer Rating  \n",
       "2026           24.0        7.9       130.0             Sonic Team   E10+  \n",
       "14343           NaN        NaN         NaN                    NaN    NaN  \n",
       "15957           NaN        NaN         NaN                    NaN    NaN  \n",
       "9733            NaN        NaN         NaN                    NaN    NaN  \n",
       "188            72.0        8.6       147.0                Level 5      E  \n",
       "12426           NaN          4         6.0                Virtuos   E10+  \n",
       "2703           52.0        8.8      5999.0         Valve Software   E10+  \n",
       "15112          24.0        7.6        14.0              Neverland      T  \n",
       "3621            4.0          7         5.0  High Voltage Software      E  \n",
       "11257          10.0        tbd         NaN                  Tabot   E10+  "
      ]
     },
     "execution_count": 5,
     "metadata": {},
     "output_type": "execute_result"
    }
   ],
   "source": [
    "data.sample(10)"
   ]
  },
  {
   "cell_type": "markdown",
   "metadata": {
    "slideshow": {
     "slide_type": "slide"
    }
   },
   "source": [
    "### Cleanup: Type handling\n",
    "\n",
    "Check out the dataframe data types:"
   ]
  },
  {
   "cell_type": "code",
   "execution_count": 6,
   "metadata": {
    "pycharm": {
     "name": "#%%\n"
    }
   },
   "outputs": [
    {
     "data": {
      "text/plain": [
       "Name                object\n",
       "Platform            object\n",
       "Year_of_Release    float64\n",
       "Genre               object\n",
       "Publisher           object\n",
       "NA_Sales           float64\n",
       "EU_Sales           float64\n",
       "JP_Sales           float64\n",
       "Other_Sales        float64\n",
       "Global_Sales       float64\n",
       "Critic_Score       float64\n",
       "Critic_Count       float64\n",
       "User_Score          object\n",
       "User_Count         float64\n",
       "Developer           object\n",
       "Rating              object\n",
       "dtype: object"
      ]
     },
     "execution_count": 6,
     "metadata": {},
     "output_type": "execute_result"
    }
   ],
   "source": [
    "data.dtypes"
   ]
  },
  {
   "cell_type": "markdown",
   "metadata": {},
   "source": [
    "``User_Score`` was expected to be numeric, but it is object. Typical cause: some elements are strings!"
   ]
  },
  {
   "cell_type": "markdown",
   "metadata": {
    "slideshow": {
     "slide_type": "slide"
    }
   },
   "source": [
    "### Cleanup: Type handling\n"
   ]
  },
  {
   "cell_type": "code",
   "execution_count": 7,
   "metadata": {
    "pycharm": {
     "name": "#%%\n"
    }
   },
   "outputs": [
    {
     "data": {
      "text/plain": [
       "array(['8', nan, '8.3', '8.5', '6.6', '8.4', '8.6', '7.7', '6.3', '7.4',\n",
       "       '8.2', '9', '7.9', '8.1', '8.7', '7.1', '3.4', '5.3', '4.8', '3.2',\n",
       "       '8.9', '6.4', '7.8', '7.5', '2.6', '7.2', '9.2', '7', '7.3', '4.3',\n",
       "       '7.6', '5.7', '5', '9.1', '6.5', 'tbd', '8.8', '6.9', '9.4', '6.8',\n",
       "       '6.1', '6.7', '5.4', '4', '4.9', '4.5', '9.3', '6.2', '4.2', '6',\n",
       "       '3.7', '4.1', '5.8', '5.6', '5.5', '4.4', '4.6', '5.9', '3.9',\n",
       "       '3.1', '2.9', '5.2', '3.3', '4.7', '5.1', '3.5', '2.5', '1.9', '3',\n",
       "       '2.7', '2.2', '2', '9.5', '2.1', '3.6', '2.8', '1.8', '3.8', '0',\n",
       "       '1.6', '9.6', '2.4', '1.7', '1.1', '0.3', '1.5', '0.7', '1.2',\n",
       "       '2.3', '0.5', '1.3', '0.2', '0.6', '1.4', '0.9', '1', '9.7'],\n",
       "      dtype=object)"
      ]
     },
     "execution_count": 7,
     "metadata": {},
     "output_type": "execute_result"
    }
   ],
   "source": [
    "data['User_Score'].unique()"
   ]
  },
  {
   "cell_type": "markdown",
   "metadata": {},
   "source": [
    "Some videogames are rated 'tbd' (maybe \"to be defined\" ?!)"
   ]
  },
  {
   "cell_type": "code",
   "execution_count": 8,
   "metadata": {
    "pycharm": {
     "name": "#%%\n"
    }
   },
   "outputs": [],
   "source": [
    "data['User_Score'] = data['User_Score'].replace('tbd', np.nan) # replace 'tbd' with np.nan\n",
    "data['User_Score'] = data['User_Score'].astype(np.float) # cast to float\n",
    "#data['Year_of_Release'] = data['Year_of_Release'].astype(np.int) # cast to float"
   ]
  },
  {
   "cell_type": "markdown",
   "metadata": {
    "slideshow": {
     "slide_type": "slide"
    }
   },
   "source": [
    "### Preparation: units\n",
    "\n",
    "Critic_Score is in range [0, 100], User_Score in range [0, 10]"
   ]
  },
  {
   "cell_type": "code",
   "execution_count": 9,
   "metadata": {
    "pycharm": {
     "name": "#%%\n"
    }
   },
   "outputs": [],
   "source": [
    "data['User_Score'] = data['User_Score'] * 10 # Easy fix!"
   ]
  },
  {
   "cell_type": "markdown",
   "metadata": {
    "slideshow": {
     "slide_type": "slide"
    }
   },
   "source": [
    "## Market by platform\n",
    "\n",
    "The total number of units by platform is easily obtained using *split-apply-combine*, with sum aggregation:"
   ]
  },
  {
   "cell_type": "code",
   "execution_count": 10,
   "metadata": {
    "pycharm": {
     "name": "#%%\n"
    }
   },
   "outputs": [
    {
     "data": {
      "text/html": [
       "<div>\n",
       "<style scoped>\n",
       "    .dataframe tbody tr th:only-of-type {\n",
       "        vertical-align: middle;\n",
       "    }\n",
       "\n",
       "    .dataframe tbody tr th {\n",
       "        vertical-align: top;\n",
       "    }\n",
       "\n",
       "    .dataframe thead th {\n",
       "        text-align: right;\n",
       "    }\n",
       "</style>\n",
       "<table border=\"1\" class=\"dataframe\">\n",
       "  <thead>\n",
       "    <tr style=\"text-align: right;\">\n",
       "      <th></th>\n",
       "      <th>Platform</th>\n",
       "      <th>Global_Sales</th>\n",
       "    </tr>\n",
       "  </thead>\n",
       "  <tbody>\n",
       "    <tr>\n",
       "      <th>16</th>\n",
       "      <td>PS2</td>\n",
       "      <td>1255.64</td>\n",
       "    </tr>\n",
       "    <tr>\n",
       "      <th>28</th>\n",
       "      <td>X360</td>\n",
       "      <td>971.63</td>\n",
       "    </tr>\n",
       "    <tr>\n",
       "      <th>17</th>\n",
       "      <td>PS3</td>\n",
       "      <td>939.43</td>\n",
       "    </tr>\n",
       "    <tr>\n",
       "      <th>26</th>\n",
       "      <td>Wii</td>\n",
       "      <td>908.13</td>\n",
       "    </tr>\n",
       "    <tr>\n",
       "      <th>4</th>\n",
       "      <td>DS</td>\n",
       "      <td>807.10</td>\n",
       "    </tr>\n",
       "    <tr>\n",
       "      <th>15</th>\n",
       "      <td>PS</td>\n",
       "      <td>730.68</td>\n",
       "    </tr>\n",
       "    <tr>\n",
       "      <th>6</th>\n",
       "      <td>GBA</td>\n",
       "      <td>318.50</td>\n",
       "    </tr>\n",
       "    <tr>\n",
       "      <th>18</th>\n",
       "      <td>PS4</td>\n",
       "      <td>314.23</td>\n",
       "    </tr>\n",
       "    <tr>\n",
       "      <th>19</th>\n",
       "      <td>PSP</td>\n",
       "      <td>294.30</td>\n",
       "    </tr>\n",
       "    <tr>\n",
       "      <th>13</th>\n",
       "      <td>PC</td>\n",
       "      <td>260.30</td>\n",
       "    </tr>\n",
       "  </tbody>\n",
       "</table>\n",
       "</div>"
      ],
      "text/plain": [
       "   Platform  Global_Sales\n",
       "16      PS2       1255.64\n",
       "28     X360        971.63\n",
       "17      PS3        939.43\n",
       "26      Wii        908.13\n",
       "4        DS        807.10\n",
       "15       PS        730.68\n",
       "6       GBA        318.50\n",
       "18      PS4        314.23\n",
       "19      PSP        294.30\n",
       "13       PC        260.30"
      ]
     },
     "execution_count": 10,
     "metadata": {},
     "output_type": "execute_result"
    }
   ],
   "source": [
    "platform_sales = data.groupby(\"Platform\", as_index=False)[[\"Global_Sales\"]].sum().sort_values(by=\"Global_Sales\", ascending=False)\n",
    "platform_sales.head(10)"
   ]
  },
  {
   "cell_type": "markdown",
   "metadata": {
    "slideshow": {
     "slide_type": "slide"
    }
   },
   "source": [
    "## Market by platform\n",
    "A bar plot provides an intuitive representation:"
   ]
  },
  {
   "cell_type": "code",
   "execution_count": null,
   "metadata": {
    "slideshow": {
     "slide_type": "-"
    }
   },
   "outputs": [],
   "source": [
    "platform_sales = data.groupby(\"Platform\", as_index=False)[[\"Global_Sales\"]].sum().sort_values(by=\"Global_Sales\", ascending=False)\n",
    "px.bar(platform_sales, x=\"Global_Sales\", y=\"Platform\", color=\"Platform\", width=1600, height=900, title=\"Global sales, by platform\")"
   ]
  },
  {
   "cell_type": "markdown",
   "metadata": {},
   "source": [
    "The most popular platform of all times seems to be Playstation 2, with a large margin."
   ]
  },
  {
   "cell_type": "markdown",
   "metadata": {
    "slideshow": {
     "slide_type": "slide"
    }
   },
   "source": [
    "## Market by genre"
   ]
  },
  {
   "cell_type": "code",
   "execution_count": null,
   "metadata": {
    "pycharm": {
     "name": "#%%\n"
    }
   },
   "outputs": [],
   "source": [
    "genre_sales = data.groupby(\"Genre\", as_index=False).sum().sort_values(by=\"Global_Sales\", ascending=False)\n",
    "genre_sales.head(3)"
   ]
  },
  {
   "cell_type": "code",
   "execution_count": null,
   "metadata": {
    "pycharm": {
     "name": "#%%\n"
    },
    "scrolled": false
   },
   "outputs": [],
   "source": [
    "px.bar(genre_sales, x=\"Genre\", y=\"Global_Sales\", width=1600, height=500, color=\"Genre\", title=\"Global sales, by genre\")"
   ]
  },
  {
   "cell_type": "markdown",
   "metadata": {},
   "source": [
    "Action games dominate the scene."
   ]
  },
  {
   "cell_type": "markdown",
   "metadata": {
    "slideshow": {
     "slide_type": "slide"
    }
   },
   "source": [
    "## Market by publisher"
   ]
  },
  {
   "cell_type": "code",
   "execution_count": null,
   "metadata": {
    "pycharm": {
     "name": "#%%\n"
    }
   },
   "outputs": [],
   "source": [
    "pub_sales = data.groupby(\"Publisher\", as_index=False).sum().sort_values(by=\"Global_Sales\", ascending=False)"
   ]
  },
  {
   "cell_type": "code",
   "execution_count": null,
   "metadata": {
    "pycharm": {
     "name": "#%%\n"
    },
    "scrolled": false
   },
   "outputs": [],
   "source": [
    "px.bar(pub_sales.iloc[0:10], x=\"Global_Sales\", y=\"Publisher\", color=\"Publisher\", width=1600, height=800, title=\"Global sales, by publisher\")"
   ]
  },
  {
   "cell_type": "markdown",
   "metadata": {},
   "source": [
    "Nintendo is the most popular videogame publisher."
   ]
  },
  {
   "cell_type": "markdown",
   "metadata": {
    "slideshow": {
     "slide_type": "slide"
    }
   },
   "source": [
    "## Market Correlation Analysis"
   ]
  },
  {
   "cell_type": "code",
   "execution_count": null,
   "metadata": {
    "pycharm": {
     "name": "#%%\n"
    },
    "scrolled": false
   },
   "outputs": [],
   "source": [
    "idx_sales = (data['NA_Sales'] != np.nan) & (data['EU_Sales'] != np.nan) & (data['JP_Sales'] != np.nan)\n",
    "data_sales = data[idx_sales]\n",
    "fig = px.scatter_matrix(data_sales,\n",
    "    dimensions=['NA_Sales', 'EU_Sales', 'JP_Sales'],\n",
    "    hover_data=[\"Name\", \"Publisher\"],\n",
    "    width=1200, height=700)\n",
    "fig.show()"
   ]
  },
  {
   "cell_type": "markdown",
   "metadata": {},
   "source": [
    "EU and NA market are strongly correlated with each other. \n",
    "JP market looks more apart."
   ]
  },
  {
   "cell_type": "code",
   "execution_count": null,
   "metadata": {},
   "outputs": [],
   "source": [
    "corr = data_sales[[\"NA_Sales\", \"EU_Sales\", \"JP_Sales\"]].corr()\n",
    "corr"
   ]
  },
  {
   "cell_type": "markdown",
   "metadata": {
    "pycharm": {
     "name": "#%% md\n"
    },
    "slideshow": {
     "slide_type": "slide"
    }
   },
   "source": [
    "## User score vs. Critics Score"
   ]
  },
  {
   "cell_type": "code",
   "execution_count": null,
   "metadata": {
    "pycharm": {
     "name": "#%%\n"
    }
   },
   "outputs": [],
   "source": [
    "px.scatter(data, x=\"User_Score\", y=\"Critic_Score\", hover_data=[\"Name\", \"Publisher\"],\n",
    "          width=1200, height=700)"
   ]
  },
  {
   "cell_type": "code",
   "execution_count": null,
   "metadata": {
    "pycharm": {
     "name": "#%%\n"
    },
    "scrolled": true
   },
   "outputs": [],
   "source": [
    "data[(data['User_Score'] > 80) & (data['Critic_Score'] < 30)]"
   ]
  },
  {
   "cell_type": "markdown",
   "metadata": {
    "pycharm": {
     "name": "#%% md\n"
    },
    "slideshow": {
     "slide_type": "slide"
    }
   },
   "source": [
    "## User score vs. Critics Score"
   ]
  },
  {
   "cell_type": "code",
   "execution_count": null,
   "metadata": {
    "pycharm": {
     "name": "#%%\n"
    }
   },
   "outputs": [],
   "source": [
    "sns.jointplot(data=data, kind=\"hex\", x=\"User_Score\", y=\"Critic_Score\",  height=10.0);"
   ]
  },
  {
   "cell_type": "markdown",
   "metadata": {
    "pycharm": {
     "name": "#%% md\n"
    }
   },
   "source": [
    "User ratings are correlated with Critic ratings, but there are exceptions!"
   ]
  },
  {
   "cell_type": "markdown",
   "metadata": {
    "slideshow": {
     "slide_type": "slide"
    }
   },
   "source": [
    "### 7th-Generation Console War: PS3 vs. XBOX 360 vs. Wii\n",
    "\n",
    "Three consoles (Sony PS3, Microsoft XBOX 360, Nintendo Wii) came out at about the same time and competed on the market. Who won?"
   ]
  },
  {
   "cell_type": "code",
   "execution_count": null,
   "metadata": {
    "pycharm": {
     "name": "#%%\n"
    }
   },
   "outputs": [],
   "source": [
    "data_7th = data[data['Platform'].isin(['PS3', 'X360', 'Wii'])]\n",
    "data_7th_agg = data_7th.groupby(['Year_of_Release','Platform'], as_index=False)[['Global_Sales']].sum()\n",
    "data_7th_agg.head(10)"
   ]
  },
  {
   "cell_type": "markdown",
   "metadata": {
    "slideshow": {
     "slide_type": "slide"
    }
   },
   "source": [
    "### 7th-Generation Console War: PS3 vs. XBOX 360 vs. Wii"
   ]
  },
  {
   "cell_type": "code",
   "execution_count": null,
   "metadata": {
    "pycharm": {
     "name": "#%%\n"
    },
    "slideshow": {
     "slide_type": "-"
    }
   },
   "outputs": [],
   "source": [
    "px.bar(data_7th_agg, x='Year_of_Release', y=\"Global_Sales\", color=\"Platform\", barmode=\"group\", width=1400, height=700)"
   ]
  },
  {
   "cell_type": "markdown",
   "metadata": {
    "pycharm": {
     "name": "#%% md\n"
    }
   },
   "source": [
    "Wii was more popular then its competitors until 2009. Then, PS3 and XBOX 360 took over.\n",
    "\n",
    "Overall, it was a tight competition"
   ]
  },
  {
   "cell_type": "markdown",
   "metadata": {
    "pycharm": {
     "name": "#%% md\n"
    },
    "slideshow": {
     "slide_type": "slide"
    }
   },
   "source": [
    "### 8th-Generation Console War: PS4 vs. XBOX One vs. WiiU"
   ]
  },
  {
   "cell_type": "code",
   "execution_count": null,
   "metadata": {
    "pycharm": {
     "name": "#%%\n"
    }
   },
   "outputs": [],
   "source": [
    "data_8th = data[(data['Platform'] == 'WiiU') | (data['Platform'] == 'PS4') | (data['Platform'] == 'XOne')]\n",
    "data_8th_agg = data_8th.groupby(['Year_of_Release','Platform'])['Global_Sales'].sum().reset_index()"
   ]
  },
  {
   "cell_type": "code",
   "execution_count": null,
   "metadata": {
    "pycharm": {
     "name": "#%%\n"
    }
   },
   "outputs": [],
   "source": [
    "px.bar(data_8th_agg, x='Year_of_Release', y=\"Global_Sales\", color=\"Platform\", barmode=\"group\", width=1400, height=700)"
   ]
  },
  {
   "cell_type": "markdown",
   "metadata": {
    "pycharm": {
     "name": "#%% md\n"
    }
   },
   "source": [
    "Playstation 4 (PS4) is the clear winner of the 8th generation"
   ]
  },
  {
   "cell_type": "markdown",
   "metadata": {
    "pycharm": {
     "name": "#%%\n"
    },
    "slideshow": {
     "slide_type": "slide"
    }
   },
   "source": [
    "## Evolution of Genre"
   ]
  },
  {
   "cell_type": "code",
   "execution_count": null,
   "metadata": {
    "pycharm": {
     "name": "#%%\n"
    }
   },
   "outputs": [],
   "source": [
    "data_gen = data#data[data['Genre'].isin(['Action', 'Platform'])]\n",
    "data_gen_agg = data_gen.groupby(['Year_of_Release','Genre'])['Global_Sales'].sum().reset_index()"
   ]
  },
  {
   "cell_type": "code",
   "execution_count": null,
   "metadata": {
    "pycharm": {
     "name": "#%%\n"
    }
   },
   "outputs": [],
   "source": [
    "data_gen_agg.head(5)"
   ]
  },
  {
   "cell_type": "code",
   "execution_count": null,
   "metadata": {
    "slideshow": {
     "slide_type": "slide"
    }
   },
   "outputs": [],
   "source": [
    "data_plot = data_gen_agg[data_gen_agg['Genre'].isin(['Action', 'Platform'])]\n",
    "px.bar(data_plot, x='Year_of_Release', y=\"Global_Sales\", color=\"Genre\", barmode=\"group\", width=1600, height=700)"
   ]
  },
  {
   "cell_type": "markdown",
   "metadata": {},
   "source": [
    "Action game dominate nowadays, but platform (2D games) used to be very popular in the '90s"
   ]
  },
  {
   "cell_type": "code",
   "execution_count": null,
   "metadata": {
    "pycharm": {
     "name": "#%%\n"
    },
    "slideshow": {
     "slide_type": "skip"
    }
   },
   "outputs": [],
   "source": [
    "#sns.lineplot(data=data_gen_agg, x='Year_of_Release', y=\"Global_Sales\", hue=\"Genre\");"
   ]
  },
  {
   "cell_type": "markdown",
   "metadata": {
    "slideshow": {
     "slide_type": "slide"
    }
   },
   "source": [
    "### Normalize by year"
   ]
  },
  {
   "cell_type": "code",
   "execution_count": null,
   "metadata": {},
   "outputs": [],
   "source": [
    "data_year = data.groupby(\"Year_of_Release\")[\"Global_Sales\"].sum()\n",
    "data_year_genre = data.groupby([\"Year_of_Release\", \"Genre\"])[[\"Global_Sales\"]].sum()\n",
    "data_year_genre[\"Global_Share\"] = data_year_genre[\"Global_Sales\"]/data_year * 100\n",
    "data_year_genre = data_year_genre.reset_index()\n",
    "data_year_genre.head(5)"
   ]
  },
  {
   "cell_type": "code",
   "execution_count": null,
   "metadata": {
    "slideshow": {
     "slide_type": "slide"
    }
   },
   "outputs": [],
   "source": [
    "data_plot = data_year_genre[data_year_genre['Genre'].isin(['Action', 'Platform'])]\n",
    "px.bar(data_plot, x='Year_of_Release', y=\"Global_Share\", color=\"Genre\", barmode=\"group\", width=1600, height=700)"
   ]
  },
  {
   "cell_type": "markdown",
   "metadata": {
    "slideshow": {
     "slide_type": "slide"
    }
   },
   "source": [
    "### Global sales by genre, time animation"
   ]
  },
  {
   "cell_type": "code",
   "execution_count": null,
   "metadata": {
    "scrolled": true,
    "slideshow": {
     "slide_type": "-"
    }
   },
   "outputs": [],
   "source": [
    "data_plot = data_year_genre.query(\"Year_of_Release > 1990 and Year_of_Release < 2016\")\n",
    "data_plot=data_plot.sort_values(by=[\"Year_of_Release\", \"Global_Share\"], ascending=[True,False])\n",
    "px.bar(data_plot, x=\"Global_Share\", y=\"Genre\", color=\"Genre\", animation_frame=\"Year_of_Release\",\n",
    "      animation_group=\"Genre\",\n",
    "      range_x=[0, 100],\n",
    "      width=1000, height=500)"
   ]
  },
  {
   "cell_type": "markdown",
   "metadata": {
    "slideshow": {
     "slide_type": "slide"
    }
   },
   "source": [
    "### Global sales by genre, time animation"
   ]
  },
  {
   "cell_type": "code",
   "execution_count": null,
   "metadata": {
    "slideshow": {
     "slide_type": "-"
    }
   },
   "outputs": [],
   "source": [
    "data_plot = data_year_genre.query(\"Year_of_Release > 1990 and Year_of_Release < 2016\")\n",
    "data_plot=data_plot.sort_values(by=[\"Year_of_Release\", \"Global_Share\"], ascending=[True,False])\n",
    "px.bar(data_plot, x=\"Global_Share\", y=\"Genre\", color=\"Genre\", animation_frame=\"Year_of_Release\",\n",
    "      animation_group=\"Genre\",\n",
    "      range_x=[0, 200],\n",
    "      width=1000, height=500)"
   ]
  }
 ],
 "metadata": {
  "celltoolbar": "Slideshow",
  "kernelspec": {
   "display_name": "Python 3",
   "language": "python",
   "name": "python3"
  },
  "language_info": {
   "codemirror_mode": {
    "name": "ipython",
    "version": 3
   },
   "file_extension": ".py",
   "mimetype": "text/x-python",
   "name": "python",
   "nbconvert_exporter": "python",
   "pygments_lexer": "ipython3",
   "version": "3.8.3"
  }
 },
 "nbformat": 4,
 "nbformat_minor": 1
}
