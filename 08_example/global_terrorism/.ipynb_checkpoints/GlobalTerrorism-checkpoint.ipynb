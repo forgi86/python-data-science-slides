{
 "cells": [
  {
   "cell_type": "markdown",
   "metadata": {
    "slideshow": {
     "slide_type": "slide"
    }
   },
   "source": [
    "# Global Terrorism Analysis\n",
    "\n",
    "An analysis of the global terrorism Kaggle dataset [Global Terrorism Database](https://www.kaggle.com/START-UMD/gtd).\n",
    "\n"
   ]
  },
  {
   "cell_type": "markdown",
   "metadata": {
    "slideshow": {
     "slide_type": "fragment"
    }
   },
   "source": [
    "* Direct link: https://www.kaggle.com/START-UMD/gtd (requires a Kaggle account)\n",
    "* Terroris attacks in the time period 1970-2017\n",
    "* Each row represents a terrorist attack\n",
    "* Used fields:\n",
    "    * country_txt: country name\n",
    "    * region_txt: macro-region {Western Europe, Eastern Europe, Middle East, North America, ...}\n",
    "    * nkill: number of victims\n",
    "    * nwound: number of wounded\n",
    "    * latitude\n",
    "    * longitude\n",
    "    * attacktype1_txt: type of attack {assassination, hostage taking, bombing, ...}"
   ]
  },
  {
   "cell_type": "markdown",
   "metadata": {
    "slideshow": {
     "slide_type": "fragment"
    }
   },
   "source": [
    "We analyze several aspects:  \n",
    " * Most affected countries\n",
    " * Most affected macro-regions in the world\n",
    " * Most active terrorist groups\n",
    " * Trends over time: world-wide and Western Europe"
   ]
  },
  {
   "cell_type": "markdown",
   "metadata": {
    "slideshow": {
     "slide_type": "slide"
    }
   },
   "source": [
    "### Import & Load dataset"
   ]
  },
  {
   "cell_type": "code",
   "execution_count": null,
   "metadata": {
    "pycharm": {
     "name": "#%%\n"
    },
    "slideshow": {
     "slide_type": "-"
    }
   },
   "outputs": [],
   "source": [
    "import pandas as pd\n",
    "import numpy as np\n",
    "import matplotlib.pyplot as plt\n",
    "import plotly.express as px\n",
    "import seaborn as sns"
   ]
  },
  {
   "cell_type": "code",
   "execution_count": null,
   "metadata": {
    "pycharm": {
     "name": "#%%\n"
    },
    "scrolled": true
   },
   "outputs": [],
   "source": [
    "df_terr = pd.read_csv('globalterrorismdb_0718dist.csv', delimiter=\",\", low_memory=False, encoding='ISO-8859-1')"
   ]
  },
  {
   "cell_type": "code",
   "execution_count": null,
   "metadata": {
    "scrolled": false,
    "slideshow": {
     "slide_type": "fragment"
    }
   },
   "outputs": [],
   "source": [
    "df_terr.sample(3)"
   ]
  },
  {
   "cell_type": "code",
   "execution_count": null,
   "metadata": {
    "slideshow": {
     "slide_type": "fragment"
    }
   },
   "outputs": [],
   "source": [
    "print(f\"Number of rows: {df_terr.shape[0]}\")\n",
    "print(f\"Number of columns: {df_terr.shape[1]}\")"
   ]
  },
  {
   "cell_type": "markdown",
   "metadata": {
    "slideshow": {
     "slide_type": "slide"
    }
   },
   "source": [
    "### Data preparation: column rename & pre-processing"
   ]
  },
  {
   "cell_type": "code",
   "execution_count": null,
   "metadata": {},
   "outputs": [],
   "source": [
    "df_terr.rename(columns={'iyear':'year',\n",
    "                       'imonth':'month',\n",
    "                       'iday':'day',\n",
    "                       'target1' : 'target',\n",
    "                       },inplace=True)\n",
    "\n",
    "df_terr=df_terr[['year','month','day', 'country_txt','region_txt',\n",
    "               'city','latitude','longitude','attacktype1_txt',\n",
    "               'nkill','nwound','target','summary','gname',\n",
    "               'motive']]\n"
   ]
  },
  {
   "cell_type": "code",
   "execution_count": null,
   "metadata": {},
   "outputs": [],
   "source": [
    "df_terr.loc[:, \"nhit\"] = df_terr[\"nwound\"] + df_terr[\"nkill\"] # added column for analysis: number of killed + wounded"
   ]
  },
  {
   "cell_type": "markdown",
   "metadata": {
    "slideshow": {
     "slide_type": "slide"
    }
   },
   "source": [
    "### Most hit countries\n",
    "\n"
   ]
  },
  {
   "cell_type": "code",
   "execution_count": null,
   "metadata": {
    "pycharm": {
     "name": "#%%\n"
    }
   },
   "outputs": [],
   "source": [
    "df_terr_most_hit = df_terr.groupby(\"country_txt\").sum()\n",
    "df_terr_most_hit = df_terr_most_hit.sort_values(by=\"nhit\", ascending=False)\n",
    "df_terr_most_hit = df_terr_most_hit[:10]"
   ]
  },
  {
   "cell_type": "code",
   "execution_count": null,
   "metadata": {
    "scrolled": false
   },
   "outputs": [],
   "source": [
    "fig=px.bar(df_terr_most_hit, y=\"nhit\", x=df_terr_most_hit.index, color=df_terr_most_hit.index, width=1600, height=900)\n",
    "fig.layout[\"yaxis\"][\"title\"] = \"Number of persons affected\"\n",
    "fig.layout[\"xaxis\"][\"title\"] = \"Nation\"\n",
    "fig.layout[\"title\"] = \"Number of killed + wounded, by country\"\n",
    "fig.update_layout(font_size=20)\n",
    "fig.show()"
   ]
  },
  {
   "cell_type": "markdown",
   "metadata": {},
   "source": [
    "Iraq is (by far) the most affected country"
   ]
  },
  {
   "cell_type": "markdown",
   "metadata": {
    "slideshow": {
     "slide_type": "slide"
    }
   },
   "source": [
    "### Most hit macro-regions"
   ]
  },
  {
   "cell_type": "code",
   "execution_count": null,
   "metadata": {},
   "outputs": [],
   "source": [
    "df_terr_by_region = df_terr.groupby(\"region_txt\").sum()\n",
    "df_terr_by_region = df_terr_by_region.sort_values(by=\"nhit\", ascending=False)"
   ]
  },
  {
   "cell_type": "code",
   "execution_count": null,
   "metadata": {
    "scrolled": false
   },
   "outputs": [],
   "source": [
    "fig = px.bar(df_terr_by_region, y=\"nhit\", x=df_terr_by_region.index, color=df_terr_by_region.index, width=1600, height=800)\n",
    "fig.layout[\"yaxis\"][\"title\"] = \"Number of persons affected\"\n",
    "fig.layout[\"xaxis\"][\"title\"] = \"Nation\"\n",
    "fig.layout[\"title\"] = \"Number of killed + wounded, by macro-region\"\n",
    "fig.update_layout(font_size=20)\n",
    "fig.show()"
   ]
  },
  {
   "cell_type": "markdown",
   "metadata": {},
   "source": [
    "Middle East & North Africa is the most affacted macro-region."
   ]
  },
  {
   "cell_type": "markdown",
   "metadata": {
    "slideshow": {
     "slide_type": "slide"
    }
   },
   "source": [
    "### Number of victims by terrorist group"
   ]
  },
  {
   "cell_type": "code",
   "execution_count": null,
   "metadata": {},
   "outputs": [],
   "source": [
    "df_terr_group = df_terr.groupby(\"gname\").sum()\n",
    "df_terr_group = df_terr_group.sort_values(by=\"nkill\", ascending=False)\n",
    "df_terr_group = df_terr_group.iloc[0:20]"
   ]
  },
  {
   "cell_type": "code",
   "execution_count": null,
   "metadata": {
    "scrolled": false
   },
   "outputs": [],
   "source": [
    "fig = px.bar(df_terr_group, y=df_terr_group.index, x=\"nkill\", color=df_terr_group.index, width=1600, height=900)\n",
    "fig.layout[\"xaxis\"][\"title\"] = \"Victims\"\n",
    "fig.layout[\"yaxis\"][\"title\"] = \"Terrorist Groups\"\n",
    "fig.layout[\"title\"] = \"Number of killed by terrorist groups\"\n",
    "fig.update_layout(font_size=22)\n",
    "fig.show()"
   ]
  },
  {
   "cell_type": "markdown",
   "metadata": {},
   "source": [
    "Most of the victims are from unknown groups"
   ]
  },
  {
   "cell_type": "markdown",
   "metadata": {
    "slideshow": {
     "slide_type": "slide"
    }
   },
   "source": [
    "### Trend Attacks"
   ]
  },
  {
   "cell_type": "code",
   "execution_count": null,
   "metadata": {
    "scrolled": false
   },
   "outputs": [],
   "source": [
    "df_terr_year_count = df_terr.groupby([\"year\"]).size()\n",
    "fig = px.line(x=df_terr_year_count.index, y=df_terr_year_count.values, width=1400, height=600)\n",
    "fig.layout[\"title\"] = \"Terrorist Attacks in the World\"\n",
    "fig.layout[\"xaxis\"][\"title\"] = \"Year\"\n",
    "fig.layout[\"yaxis\"][\"title\"] = \"Total attacks per year\"\n",
    "fig.update_layout(showlegend=False, font_size=22)\n",
    "fig.show()"
   ]
  },
  {
   "cell_type": "markdown",
   "metadata": {},
   "source": [
    "A sharp increase in 2011 (Syrian civil war). The peak was reached in 2014."
   ]
  },
  {
   "cell_type": "markdown",
   "metadata": {
    "slideshow": {
     "slide_type": "slide"
    }
   },
   "source": [
    "### Attacks in Western Europe"
   ]
  },
  {
   "cell_type": "code",
   "execution_count": null,
   "metadata": {},
   "outputs": [],
   "source": [
    "df_terr_eu = df_terr[df_terr[\"region_txt\"] == \"Western Europe\"]"
   ]
  },
  {
   "cell_type": "code",
   "execution_count": null,
   "metadata": {
    "scrolled": false
   },
   "outputs": [],
   "source": [
    "df_terr_year_count = df_terr_eu.groupby([\"year\"]).size()\n",
    "fig = px.line(x=df_terr_year_count.index, y=df_terr_year_count.values, width=1400, height=600)\n",
    "fig.layout[\"title\"] = \"Terrorist attacks in Western Europe\"\n",
    "fig.layout[\"xaxis\"][\"title\"] = \"Year\"\n",
    "fig.layout[\"yaxis\"][\"title\"] = \"Total attacks per year\"\n",
    "fig.update_layout(showlegend=False, font_size=22)\n",
    "fig.show()"
   ]
  },
  {
   "cell_type": "markdown",
   "metadata": {},
   "source": [
    "Terrorism in Western Europe had two main peaks: in the late 70s and mid-90s."
   ]
  },
  {
   "cell_type": "markdown",
   "metadata": {
    "slideshow": {
     "slide_type": "slide"
    }
   },
   "source": [
    "### Attacks in Europe"
   ]
  },
  {
   "cell_type": "code",
   "execution_count": null,
   "metadata": {},
   "outputs": [],
   "source": [
    "worldPlot = px.scatter_mapbox(df_terr, lat=\"latitude\", lon=\"longitude\",zoom=3,\n",
    "                             hover_name=\"city\", hover_data=[\"gname\"], labels={\"attacktype1_txt\": \"attack type\"},\n",
    "                              color=\"attacktype1_txt\", animation_frame=\"year\",center={'lon':8,'lat':48}, height=800, width=1400)\n",
    "worldPlot.update_layout(mapbox_style=\"open-street-map\")\n",
    "worldPlot.update_layout(title=\"During the years the type of attack and the position changes\", font_size=22)\n",
    "worldPlot.show()"
   ]
  },
  {
   "cell_type": "markdown",
   "metadata": {},
   "source": [
    "In Italy, several terrorist attacks in the 70s."
   ]
  },
  {
   "cell_type": "markdown",
   "metadata": {
    "slideshow": {
     "slide_type": "slide"
    }
   },
   "source": [
    "<center>\n",
    "    <h1>Thanks for your attention.</h1><br/>\n",
    "    <h2>Questions?</h2>\n",
    "</center>"
   ]
  }
 ],
 "metadata": {
  "celltoolbar": "Slideshow",
  "kernelspec": {
   "display_name": "Python 3",
   "language": "python",
   "name": "python3"
  },
  "language_info": {
   "codemirror_mode": {
    "name": "ipython",
    "version": 3
   },
   "file_extension": ".py",
   "mimetype": "text/x-python",
   "name": "python",
   "nbconvert_exporter": "python",
   "pygments_lexer": "ipython3",
   "version": "3.8.3"
  }
 },
 "nbformat": 4,
 "nbformat_minor": 1
}
