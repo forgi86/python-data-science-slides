{
 "cells": [
  {
   "cell_type": "markdown",
   "metadata": {},
   "source": [
    "# Timeseries\n",
    "## Processing and visualization with specific tools"
   ]
  },
  {
   "cell_type": "code",
   "execution_count": null,
   "metadata": {},
   "outputs": [],
   "source": [
    "import os\n",
    "import pandas as pd\n",
    "import numpy as np\n",
    "import matplotlib.pyplot as plt\n",
    "import plotly.express as px"
   ]
  },
  {
   "cell_type": "markdown",
   "metadata": {},
   "source": [
    "* Load the dataset chicago_crimes.csv representing the number of crimes in Chicago aggregated at hourly base, divided into  **Arrest** (at least an arrest was made) and **No Arrest** (no arrest was made). Note: the dataset is a simplified version of the official dataset from the city of Chicago available [here](https://data.cityofchicago.org/Public-Safety/Crimes-2001-to-Present/ijzp-q8t2). The pre-processing steps are in the notebook chicago_crimes_preproc.ipynb."
   ]
  },
  {
   "cell_type": "code",
   "execution_count": null,
   "metadata": {},
   "outputs": [],
   "source": [
    "# Adapted and simplified from https://data.cityofchicago.org/Public-Safety/Crimes-2001-to-Present/ijzp-q8t2\n",
    "# (the original dataset is 1.6GB!) look\n",
    "df_crimes_hourly = pd.read_csv(os.path.join(\"data\", \"chicago_crimes.csv\"))\n",
    "df_crimes_hourly.head()"
   ]
  },
  {
   "cell_type": "markdown",
   "metadata": {},
   "source": [
    "* Create a new column **Total** as the sum of **Arrest** + **No Arrest**"
   ]
  },
  {
   "cell_type": "code",
   "execution_count": null,
   "metadata": {},
   "outputs": [],
   "source": [
    "df_crimes_hourly[\"Total\"] = df_crimes_hourly[\"Arrest\"] + df_crimes_hourly[\"No Arrest\"]"
   ]
  },
  {
   "cell_type": "markdown",
   "metadata": {},
   "source": [
    "* Convert the **Date** column to datetime format"
   ]
  },
  {
   "cell_type": "code",
   "execution_count": null,
   "metadata": {},
   "outputs": [],
   "source": [
    "df_crimes_hourly[\"Date\"] = pd.to_datetime(df_crimes_hourly[\"Date\"])"
   ]
  },
  {
   "cell_type": "markdown",
   "metadata": {},
   "source": [
    "* Set the **Date** column as index of the dataframe (you may modify the existing dataframe df_crimes_hourly)"
   ]
  },
  {
   "cell_type": "code",
   "execution_count": null,
   "metadata": {},
   "outputs": [],
   "source": [
    "df_crimes_hourly.set_index(\"Date\", inplace=True)\n",
    "df_crimes_hourly.head()"
   ]
  },
  {
   "cell_type": "markdown",
   "metadata": {},
   "source": [
    "* Select the portion of the dataset from January 2001 until the end April 2021 (included). Use this portion for the rest of the analysis"
   ]
  },
  {
   "cell_type": "code",
   "execution_count": null,
   "metadata": {},
   "outputs": [],
   "source": [
    "df_crimes_hourly = df_crimes_hourly.loc[\"2001-01\":\"2021-04\"]"
   ]
  },
  {
   "cell_type": "code",
   "execution_count": null,
   "metadata": {},
   "outputs": [],
   "source": [
    "df_crimes_hourly.head()"
   ]
  },
  {
   "cell_type": "code",
   "execution_count": null,
   "metadata": {},
   "outputs": [],
   "source": [
    "df_crimes_hourly.tail()"
   ]
  },
  {
   "cell_type": "markdown",
   "metadata": {},
   "source": [
    "* Visualize the dataset above with a line plot using plotly (note: it could take a few seconds). What do you observe?"
   ]
  },
  {
   "cell_type": "code",
   "execution_count": null,
   "metadata": {},
   "outputs": [],
   "source": [
    "px.line(df_crimes_hourly, y=[\"Arrest\", \"No Arrest\", \"Total\"])"
   ]
  },
  {
   "cell_type": "markdown",
   "metadata": {},
   "source": [
    "Many crimes are committed around New Year's Eve?! Actually, there are similar peaks at around midnight of the first day of each month. Perhaps some crimes are reported by the authorities in particular moments by default."
   ]
  },
  {
   "cell_type": "markdown",
   "metadata": {},
   "source": [
    "* Resample and visualize the dataset at a monthly time base. What do you observe?"
   ]
  },
  {
   "cell_type": "code",
   "execution_count": null,
   "metadata": {},
   "outputs": [],
   "source": [
    "df_crimes_monthly = df_crimes_hourly.resample(\"M\").sum()"
   ]
  },
  {
   "cell_type": "code",
   "execution_count": null,
   "metadata": {},
   "outputs": [],
   "source": [
    "px.line(df_crimes_monthly, y=[\"Arrest\", \"No Arrest\", \"Total\"])"
   ]
  },
  {
   "cell_type": "markdown",
   "metadata": {},
   "source": [
    "The time series **Arrest** seems to have a strong yearly seasonality. The seasonality is perhaps less strong in the **No Arrest** column. Then, we expect more criminal acts to be unpunished in Summer."
   ]
  },
  {
   "cell_type": "code",
   "execution_count": null,
   "metadata": {},
   "outputs": [],
   "source": [
    "df_crimes_monthly[\"Arrest_Perc\"] = df_crimes_monthly[\"Arrest\"]/df_crimes_monthly[\"Total\"]*100"
   ]
  },
  {
   "cell_type": "code",
   "execution_count": null,
   "metadata": {
    "scrolled": false
   },
   "outputs": [],
   "source": [
    "px.line(df_crimes_monthly, y=\"Arrest_Perc\")"
   ]
  },
  {
   "cell_type": "markdown",
   "metadata": {},
   "source": [
    "This is indeed true. Note that **Arrest_Perc** has dropped after Covid-19."
   ]
  },
  {
   "cell_type": "markdown",
   "metadata": {},
   "source": [
    "* Compute and visualize the average number of **Arrest**/**No Arrest**/**Total** for the 7 different days of the week. What do you observe?"
   ]
  },
  {
   "cell_type": "code",
   "execution_count": null,
   "metadata": {},
   "outputs": [],
   "source": [
    "df_weekday_avg = df_crimes_hourly.groupby(df_crimes_hourly.index.weekday).mean()\n",
    "df_weekday_avg.index.name = \"weekday\"\n",
    "dict_weekday = {0:'Mon', 1:'Tue', 2:'Wed', 3:'Thur', 4:'Fri', 5:'Sat', 6:'Sun'}\n",
    "df_weekday_avg.index = df_weekday_avg.index.map(dict_weekday)\n",
    "df_weekday_avg"
   ]
  },
  {
   "cell_type": "code",
   "execution_count": null,
   "metadata": {
    "scrolled": false
   },
   "outputs": [],
   "source": [
    "px.bar(df_weekday_avg)"
   ]
  },
  {
   "cell_type": "markdown",
   "metadata": {},
   "source": [
    "There are fewer crimes on Sundays"
   ]
  },
  {
   "cell_type": "markdown",
   "metadata": {},
   "source": [
    "* Compute and visualize the hourly average of **Arrest**/**No Arrest**/**Total**. What do you observe?"
   ]
  },
  {
   "cell_type": "code",
   "execution_count": null,
   "metadata": {
    "scrolled": false
   },
   "outputs": [],
   "source": [
    "df_hour_avg = df_crimes_hourly.groupby(df_crimes_hourly.index.hour).mean()\n",
    "df_hour_avg.index.name=\"Hour\"\n",
    "px.line(df_hour_avg)"
   ]
  },
  {
   "cell_type": "markdown",
   "metadata": {},
   "source": [
    "There is a natural daily cycle. Positive peak at 12, high rate during the evening/night, negative peak in the early morning. Makes sense!"
   ]
  },
  {
   "cell_type": "markdown",
   "metadata": {},
   "source": [
    "* Compute and visualize the monthly average of **Arrest**/**No Arrest**/**Total**. What do you observe?"
   ]
  },
  {
   "cell_type": "markdown",
   "metadata": {},
   "source": [
    "### Extra"
   ]
  },
  {
   "cell_type": "markdown",
   "metadata": {},
   "source": [
    "* What does the following command do?"
   ]
  },
  {
   "cell_type": "code",
   "execution_count": null,
   "metadata": {},
   "outputs": [],
   "source": [
    "df_crimes_ma = df_crimes_hourly.resample(\"D\").sum().rolling(31, center=True).sum()"
   ]
  },
  {
   "cell_type": "markdown",
   "metadata": {},
   "source": [
    "It first resample the signal at a daily basis, then apply a length-31 rolling window operation around each data point. "
   ]
  },
  {
   "cell_type": "code",
   "execution_count": null,
   "metadata": {},
   "outputs": [],
   "source": [
    "df_crimes_ma.iloc[13:24]"
   ]
  },
  {
   "cell_type": "code",
   "execution_count": null,
   "metadata": {},
   "outputs": [],
   "source": [
    "px.line(df_crimes_ma, y=[\"Arrest\", \"No Arrest\", \"Total\"])"
   ]
  },
  {
   "cell_type": "code",
   "execution_count": null,
   "metadata": {},
   "outputs": [],
   "source": [
    "px.line(df_crimes_monthly, y=[\"Arrest\", \"No Arrest\", \"Total\"])"
   ]
  },
  {
   "cell_type": "markdown",
   "metadata": {},
   "source": [
    "The result is similar to the monthly resampling, but it is defined at a daily resolution."
   ]
  },
  {
   "cell_type": "markdown",
   "metadata": {},
   "source": [
    "* Compute and visualize the average number of **Arrest**/**No Arrest**/**Total** for the 12 different months. What do you observe?"
   ]
  },
  {
   "cell_type": "code",
   "execution_count": null,
   "metadata": {
    "scrolled": true
   },
   "outputs": [],
   "source": [
    "df_month_avg = df_crimes_hourly.groupby(df_crimes_hourly.index.month).mean()\n",
    "df_month_avg.index = [\"Jan\", \"Feb\", \"Mar\", \"Apr\", \"May\", \"Jun\", \"Jul\", \"Aug\", \"Sep\", \"Oct\", \"Nov\", \"Dec\"]\n",
    "df_month_avg.index.name = \"Month\""
   ]
  },
  {
   "cell_type": "code",
   "execution_count": null,
   "metadata": {},
   "outputs": [],
   "source": [
    "fig = px.bar(df_month_avg)\n",
    "fig.show()"
   ]
  },
  {
   "cell_type": "markdown",
   "metadata": {},
   "source": [
    "There are more crimes in the warmer months of the year."
   ]
  }
 ],
 "metadata": {
  "kernelspec": {
   "display_name": "Python 3",
   "language": "python",
   "name": "python3"
  },
  "language_info": {
   "codemirror_mode": {
    "name": "ipython",
    "version": 3
   },
   "file_extension": ".py",
   "mimetype": "text/x-python",
   "name": "python",
   "nbconvert_exporter": "python",
   "pygments_lexer": "ipython3",
   "version": "3.8.3"
  }
 },
 "nbformat": 4,
 "nbformat_minor": 4
}
