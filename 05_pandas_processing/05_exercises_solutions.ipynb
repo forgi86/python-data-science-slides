{
 "cells": [
  {
   "cell_type": "markdown",
   "metadata": {},
   "source": [
    "# Pandas: basic processing and data cleaning"
   ]
  },
  {
   "cell_type": "code",
   "execution_count": 1,
   "metadata": {},
   "outputs": [],
   "source": [
    "import pandas as pd\n",
    "import numpy as np"
   ]
  },
  {
   "cell_type": "markdown",
   "metadata": {},
   "source": [
    "## Basic processing exercises"
   ]
  },
  {
   "cell_type": "markdown",
   "metadata": {},
   "source": [
    "* Load the dataset cantons.csv"
   ]
  },
  {
   "cell_type": "code",
   "execution_count": 2,
   "metadata": {
    "scrolled": true
   },
   "outputs": [
    {
     "data": {
      "text/html": [
       "<div>\n",
       "<style scoped>\n",
       "    .dataframe tbody tr th:only-of-type {\n",
       "        vertical-align: middle;\n",
       "    }\n",
       "\n",
       "    .dataframe tbody tr th {\n",
       "        vertical-align: top;\n",
       "    }\n",
       "\n",
       "    .dataframe thead th {\n",
       "        text-align: right;\n",
       "    }\n",
       "</style>\n",
       "<table border=\"1\" class=\"dataframe\">\n",
       "  <thead>\n",
       "    <tr style=\"text-align: right;\">\n",
       "      <th></th>\n",
       "      <th>Code</th>\n",
       "      <th>Name</th>\n",
       "      <th>Population</th>\n",
       "      <th>Area</th>\n",
       "    </tr>\n",
       "  </thead>\n",
       "  <tbody>\n",
       "    <tr>\n",
       "      <th>0</th>\n",
       "      <td>ZH</td>\n",
       "      <td>Zurich</td>\n",
       "      <td>1539275</td>\n",
       "      <td>1729</td>\n",
       "    </tr>\n",
       "    <tr>\n",
       "      <th>1</th>\n",
       "      <td>BE</td>\n",
       "      <td>Bern</td>\n",
       "      <td>1039474</td>\n",
       "      <td>5960</td>\n",
       "    </tr>\n",
       "    <tr>\n",
       "      <th>2</th>\n",
       "      <td>LU</td>\n",
       "      <td>Lucerne</td>\n",
       "      <td>413120</td>\n",
       "      <td>1494</td>\n",
       "    </tr>\n",
       "    <tr>\n",
       "      <th>3</th>\n",
       "      <td>UR</td>\n",
       "      <td>Uri</td>\n",
       "      <td>36703</td>\n",
       "      <td>1077</td>\n",
       "    </tr>\n",
       "    <tr>\n",
       "      <th>4</th>\n",
       "      <td>SZ</td>\n",
       "      <td>Schwyz</td>\n",
       "      <td>160480</td>\n",
       "      <td>908</td>\n",
       "    </tr>\n",
       "  </tbody>\n",
       "</table>\n",
       "</div>"
      ],
      "text/plain": [
       "  Code     Name  Population  Area\n",
       "0   ZH   Zurich     1539275  1729\n",
       "1   BE     Bern     1039474  5960\n",
       "2   LU  Lucerne      413120  1494\n",
       "3   UR      Uri       36703  1077\n",
       "4   SZ   Schwyz      160480   908"
      ]
     },
     "execution_count": 2,
     "metadata": {},
     "output_type": "execute_result"
    }
   ],
   "source": [
    "df_cant = pd.read_csv(\"cantons.csv\")\n",
    "df_cant.head()"
   ]
  },
  {
   "cell_type": "markdown",
   "metadata": {},
   "source": [
    "* Add a column named **Density** containing the population density (Population/Area). NOTE: the variable Area is in km^2"
   ]
  },
  {
   "cell_type": "code",
   "execution_count": 3,
   "metadata": {},
   "outputs": [
    {
     "data": {
      "text/html": [
       "<div>\n",
       "<style scoped>\n",
       "    .dataframe tbody tr th:only-of-type {\n",
       "        vertical-align: middle;\n",
       "    }\n",
       "\n",
       "    .dataframe tbody tr th {\n",
       "        vertical-align: top;\n",
       "    }\n",
       "\n",
       "    .dataframe thead th {\n",
       "        text-align: right;\n",
       "    }\n",
       "</style>\n",
       "<table border=\"1\" class=\"dataframe\">\n",
       "  <thead>\n",
       "    <tr style=\"text-align: right;\">\n",
       "      <th></th>\n",
       "      <th>Code</th>\n",
       "      <th>Name</th>\n",
       "      <th>Population</th>\n",
       "      <th>Area</th>\n",
       "      <th>Density</th>\n",
       "    </tr>\n",
       "  </thead>\n",
       "  <tbody>\n",
       "    <tr>\n",
       "      <th>0</th>\n",
       "      <td>ZH</td>\n",
       "      <td>Zurich</td>\n",
       "      <td>1539275</td>\n",
       "      <td>1729</td>\n",
       "      <td>890.268942</td>\n",
       "    </tr>\n",
       "    <tr>\n",
       "      <th>1</th>\n",
       "      <td>BE</td>\n",
       "      <td>Bern</td>\n",
       "      <td>1039474</td>\n",
       "      <td>5960</td>\n",
       "      <td>174.408389</td>\n",
       "    </tr>\n",
       "    <tr>\n",
       "      <th>2</th>\n",
       "      <td>LU</td>\n",
       "      <td>Lucerne</td>\n",
       "      <td>413120</td>\n",
       "      <td>1494</td>\n",
       "      <td>276.519411</td>\n",
       "    </tr>\n",
       "    <tr>\n",
       "      <th>3</th>\n",
       "      <td>UR</td>\n",
       "      <td>Uri</td>\n",
       "      <td>36703</td>\n",
       "      <td>1077</td>\n",
       "      <td>34.078923</td>\n",
       "    </tr>\n",
       "    <tr>\n",
       "      <th>4</th>\n",
       "      <td>SZ</td>\n",
       "      <td>Schwyz</td>\n",
       "      <td>160480</td>\n",
       "      <td>908</td>\n",
       "      <td>176.740088</td>\n",
       "    </tr>\n",
       "  </tbody>\n",
       "</table>\n",
       "</div>"
      ],
      "text/plain": [
       "  Code     Name  Population  Area     Density\n",
       "0   ZH   Zurich     1539275  1729  890.268942\n",
       "1   BE     Bern     1039474  5960  174.408389\n",
       "2   LU  Lucerne      413120  1494  276.519411\n",
       "3   UR      Uri       36703  1077   34.078923\n",
       "4   SZ   Schwyz      160480   908  176.740088"
      ]
     },
     "execution_count": 3,
     "metadata": {},
     "output_type": "execute_result"
    }
   ],
   "source": [
    "df_cant[\"Density\"] = df_cant[\"Population\"]/df_cant[\"Area\"]\n",
    "df_cant.head(5)"
   ]
  },
  {
   "cell_type": "markdown",
   "metadata": {
    "scrolled": true
   },
   "source": [
    "* Sort the Swiss cantons by decreasing density of population"
   ]
  },
  {
   "cell_type": "code",
   "execution_count": 4,
   "metadata": {},
   "outputs": [
    {
     "data": {
      "text/html": [
       "<div>\n",
       "<style scoped>\n",
       "    .dataframe tbody tr th:only-of-type {\n",
       "        vertical-align: middle;\n",
       "    }\n",
       "\n",
       "    .dataframe tbody tr th {\n",
       "        vertical-align: top;\n",
       "    }\n",
       "\n",
       "    .dataframe thead th {\n",
       "        text-align: right;\n",
       "    }\n",
       "</style>\n",
       "<table border=\"1\" class=\"dataframe\">\n",
       "  <thead>\n",
       "    <tr style=\"text-align: right;\">\n",
       "      <th></th>\n",
       "      <th>Code</th>\n",
       "      <th>Name</th>\n",
       "      <th>Population</th>\n",
       "      <th>Area</th>\n",
       "      <th>Density</th>\n",
       "    </tr>\n",
       "  </thead>\n",
       "  <tbody>\n",
       "    <tr>\n",
       "      <th>11</th>\n",
       "      <td>BS</td>\n",
       "      <td>Basel-City</td>\n",
       "      <td>201469</td>\n",
       "      <td>37</td>\n",
       "      <td>5445.108108</td>\n",
       "    </tr>\n",
       "    <tr>\n",
       "      <th>24</th>\n",
       "      <td>GE</td>\n",
       "      <td>Geneva</td>\n",
       "      <td>504128</td>\n",
       "      <td>282</td>\n",
       "      <td>1787.687943</td>\n",
       "    </tr>\n",
       "    <tr>\n",
       "      <th>0</th>\n",
       "      <td>ZH</td>\n",
       "      <td>Zurich</td>\n",
       "      <td>1539275</td>\n",
       "      <td>1729</td>\n",
       "      <td>890.268942</td>\n",
       "    </tr>\n",
       "    <tr>\n",
       "      <th>8</th>\n",
       "      <td>ZG</td>\n",
       "      <td>Zug</td>\n",
       "      <td>127642</td>\n",
       "      <td>239</td>\n",
       "      <td>534.066946</td>\n",
       "    </tr>\n",
       "    <tr>\n",
       "      <th>18</th>\n",
       "      <td>AG</td>\n",
       "      <td>Aarau</td>\n",
       "      <td>685845</td>\n",
       "      <td>1404</td>\n",
       "      <td>488.493590</td>\n",
       "    </tr>\n",
       "  </tbody>\n",
       "</table>\n",
       "</div>"
      ],
      "text/plain": [
       "   Code        Name  Population  Area      Density\n",
       "11   BS  Basel-City      201469    37  5445.108108\n",
       "24   GE      Geneva      504128   282  1787.687943\n",
       "0    ZH      Zurich     1539275  1729   890.268942\n",
       "8    ZG         Zug      127642   239   534.066946\n",
       "18   AG       Aarau      685845  1404   488.493590"
      ]
     },
     "execution_count": 4,
     "metadata": {},
     "output_type": "execute_result"
    }
   ],
   "source": [
    "df_cant.sort_values(by=\"Density\", ascending=False, inplace=True) # I used the inplace option...\n",
    "df_cant.head(5)"
   ]
  },
  {
   "cell_type": "markdown",
   "metadata": {},
   "source": [
    "* Compute the mean of Population, the maximum of Area, and the minimum of Density"
   ]
  },
  {
   "cell_type": "code",
   "execution_count": 5,
   "metadata": {},
   "outputs": [
    {
     "data": {
      "text/plain": [
       "(320866.8076923077, 7105, 28.01140042223786)"
      ]
     },
     "execution_count": 5,
     "metadata": {},
     "output_type": "execute_result"
    }
   ],
   "source": [
    "df_cant[\"Population\"].mean(), df_cant[\"Area\"].max(), df_cant[\"Density\"].min()"
   ]
  },
  {
   "cell_type": "markdown",
   "metadata": {},
   "source": [
    "* What is the largest Swiss canton (max Area?)"
   ]
  },
  {
   "cell_type": "code",
   "execution_count": 6,
   "metadata": {},
   "outputs": [
    {
     "data": {
      "text/html": [
       "<div>\n",
       "<style scoped>\n",
       "    .dataframe tbody tr th:only-of-type {\n",
       "        vertical-align: middle;\n",
       "    }\n",
       "\n",
       "    .dataframe tbody tr th {\n",
       "        vertical-align: top;\n",
       "    }\n",
       "\n",
       "    .dataframe thead th {\n",
       "        text-align: right;\n",
       "    }\n",
       "</style>\n",
       "<table border=\"1\" class=\"dataframe\">\n",
       "  <thead>\n",
       "    <tr style=\"text-align: right;\">\n",
       "      <th></th>\n",
       "      <th>Code</th>\n",
       "      <th>Name</th>\n",
       "      <th>Population</th>\n",
       "      <th>Area</th>\n",
       "      <th>Density</th>\n",
       "    </tr>\n",
       "  </thead>\n",
       "  <tbody>\n",
       "    <tr>\n",
       "      <th>17</th>\n",
       "      <td>GR</td>\n",
       "      <td>Grisons</td>\n",
       "      <td>199021</td>\n",
       "      <td>7105</td>\n",
       "      <td>28.0114</td>\n",
       "    </tr>\n",
       "  </tbody>\n",
       "</table>\n",
       "</div>"
      ],
      "text/plain": [
       "   Code     Name  Population  Area  Density\n",
       "17   GR  Grisons      199021  7105  28.0114"
      ]
     },
     "execution_count": 6,
     "metadata": {},
     "output_type": "execute_result"
    }
   ],
   "source": [
    "df_cant[df_cant[\"Area\"] == df_cant[\"Area\"].max()]"
   ]
  },
  {
   "cell_type": "markdown",
   "metadata": {},
   "source": [
    "## Basic cleaning/processing exercises"
   ]
  },
  {
   "cell_type": "markdown",
   "metadata": {},
   "source": [
    "* Load the dataset auto.csv"
   ]
  },
  {
   "cell_type": "code",
   "execution_count": 7,
   "metadata": {},
   "outputs": [
    {
     "data": {
      "text/html": [
       "<div>\n",
       "<style scoped>\n",
       "    .dataframe tbody tr th:only-of-type {\n",
       "        vertical-align: middle;\n",
       "    }\n",
       "\n",
       "    .dataframe tbody tr th {\n",
       "        vertical-align: top;\n",
       "    }\n",
       "\n",
       "    .dataframe thead th {\n",
       "        text-align: right;\n",
       "    }\n",
       "</style>\n",
       "<table border=\"1\" class=\"dataframe\">\n",
       "  <thead>\n",
       "    <tr style=\"text-align: right;\">\n",
       "      <th></th>\n",
       "      <th>brand</th>\n",
       "      <th>fuel type</th>\n",
       "      <th>aspiration</th>\n",
       "      <th>body style</th>\n",
       "      <th>engine location</th>\n",
       "      <th>length</th>\n",
       "      <th>width</th>\n",
       "      <th>height</th>\n",
       "      <th>weight</th>\n",
       "      <th>engine capacity</th>\n",
       "      <th>compression ratio</th>\n",
       "      <th>horsepower</th>\n",
       "      <th>max rpm</th>\n",
       "      <th>city mpg</th>\n",
       "      <th>highway mpg</th>\n",
       "      <th>num cylinders</th>\n",
       "      <th>drive wheels</th>\n",
       "    </tr>\n",
       "  </thead>\n",
       "  <tbody>\n",
       "    <tr>\n",
       "      <th>0</th>\n",
       "      <td>audi</td>\n",
       "      <td>gasoline</td>\n",
       "      <td>std</td>\n",
       "      <td>sedan</td>\n",
       "      <td>front</td>\n",
       "      <td>NaN</td>\n",
       "      <td>168.7</td>\n",
       "      <td>137.9</td>\n",
       "      <td>1281.0</td>\n",
       "      <td>2.2286</td>\n",
       "      <td>8.0</td>\n",
       "      <td>115.0</td>\n",
       "      <td>5500.0</td>\n",
       "      <td>7.652</td>\n",
       "      <td>9.353</td>\n",
       "      <td>5</td>\n",
       "      <td>4wd</td>\n",
       "    </tr>\n",
       "    <tr>\n",
       "      <th>1</th>\n",
       "      <td>audi</td>\n",
       "      <td>gasoline</td>\n",
       "      <td>turbo</td>\n",
       "      <td>hatchback</td>\n",
       "      <td>front</td>\n",
       "      <td>452.6</td>\n",
       "      <td>172.5</td>\n",
       "      <td>132.1</td>\n",
       "      <td>1384.8</td>\n",
       "      <td>2.1467</td>\n",
       "      <td>7.0</td>\n",
       "      <td>160.0</td>\n",
       "      <td>5500.0</td>\n",
       "      <td>6.802</td>\n",
       "      <td>9.353</td>\n",
       "      <td>5</td>\n",
       "      <td>4wd</td>\n",
       "    </tr>\n",
       "    <tr>\n",
       "      <th>2</th>\n",
       "      <td>subaru</td>\n",
       "      <td>gasoline</td>\n",
       "      <td>std</td>\n",
       "      <td>hatchback</td>\n",
       "      <td>front</td>\n",
       "      <td>399.5</td>\n",
       "      <td>162.1</td>\n",
       "      <td>141.5</td>\n",
       "      <td>1016.1</td>\n",
       "      <td>1.7698</td>\n",
       "      <td>8.7</td>\n",
       "      <td>73.0</td>\n",
       "      <td>4400.0</td>\n",
       "      <td>11.053</td>\n",
       "      <td>13.179</td>\n",
       "      <td>4</td>\n",
       "      <td>4wd</td>\n",
       "    </tr>\n",
       "    <tr>\n",
       "      <th>3</th>\n",
       "      <td>subaru</td>\n",
       "      <td>gasoline</td>\n",
       "      <td>std</td>\n",
       "      <td>sedan</td>\n",
       "      <td>front</td>\n",
       "      <td>436.9</td>\n",
       "      <td>166.1</td>\n",
       "      <td>137.9</td>\n",
       "      <td>1081.8</td>\n",
       "      <td>1.7698</td>\n",
       "      <td>9.0</td>\n",
       "      <td>82.0</td>\n",
       "      <td>4800.0</td>\n",
       "      <td>10.203</td>\n",
       "      <td>10.628</td>\n",
       "      <td>4</td>\n",
       "      <td>4wd</td>\n",
       "    </tr>\n",
       "    <tr>\n",
       "      <th>4</th>\n",
       "      <td>subaru</td>\n",
       "      <td>gasoline</td>\n",
       "      <td>turbo</td>\n",
       "      <td>sedan</td>\n",
       "      <td>front</td>\n",
       "      <td>436.9</td>\n",
       "      <td>166.1</td>\n",
       "      <td>137.9</td>\n",
       "      <td>1138.5</td>\n",
       "      <td>1.7698</td>\n",
       "      <td>7.7</td>\n",
       "      <td>111.0</td>\n",
       "      <td>4800.0</td>\n",
       "      <td>10.203</td>\n",
       "      <td>12.329</td>\n",
       "      <td>4</td>\n",
       "      <td>4wd</td>\n",
       "    </tr>\n",
       "  </tbody>\n",
       "</table>\n",
       "</div>"
      ],
      "text/plain": [
       "    brand fuel type aspiration body style engine location  length  width  \\\n",
       "0    audi  gasoline        std      sedan           front     NaN  168.7   \n",
       "1    audi  gasoline      turbo  hatchback           front   452.6  172.5   \n",
       "2  subaru  gasoline        std  hatchback           front   399.5  162.1   \n",
       "3  subaru  gasoline        std      sedan           front   436.9  166.1   \n",
       "4  subaru  gasoline      turbo      sedan           front   436.9  166.1   \n",
       "\n",
       "   height  weight  engine capacity  compression ratio  horsepower  max rpm  \\\n",
       "0   137.9  1281.0           2.2286                8.0       115.0   5500.0   \n",
       "1   132.1  1384.8           2.1467                7.0       160.0   5500.0   \n",
       "2   141.5  1016.1           1.7698                8.7        73.0   4400.0   \n",
       "3   137.9  1081.8           1.7698                9.0        82.0   4800.0   \n",
       "4   137.9  1138.5           1.7698                7.7       111.0   4800.0   \n",
       "\n",
       "   city mpg  highway mpg  num cylinders drive wheels  \n",
       "0     7.652        9.353              5          4wd  \n",
       "1     6.802        9.353              5          4wd  \n",
       "2    11.053       13.179              4          4wd  \n",
       "3    10.203       10.628              4          4wd  \n",
       "4    10.203       12.329              4          4wd  "
      ]
     },
     "execution_count": 7,
     "metadata": {},
     "output_type": "execute_result"
    }
   ],
   "source": [
    "df_auto = pd.read_csv(\"auto.csv\")\n",
    "df_auto.head()"
   ]
  },
  {
   "cell_type": "markdown",
   "metadata": {},
   "source": [
    "* How many columns have missing values?"
   ]
  },
  {
   "cell_type": "code",
   "execution_count": 8,
   "metadata": {},
   "outputs": [
    {
     "data": {
      "text/plain": [
       "True     12\n",
       "False     5\n",
       "dtype: int64"
      ]
     },
     "execution_count": 8,
     "metadata": {},
     "output_type": "execute_result"
    }
   ],
   "source": [
    "df_auto.isnull().any().value_counts()"
   ]
  },
  {
   "cell_type": "markdown",
   "metadata": {},
   "source": [
    "* How many rows have missing values?"
   ]
  },
  {
   "cell_type": "code",
   "execution_count": 9,
   "metadata": {},
   "outputs": [
    {
     "data": {
      "text/plain": [
       "False    200\n",
       "True       3\n",
       "dtype: int64"
      ]
     },
     "execution_count": 9,
     "metadata": {},
     "output_type": "execute_result"
    }
   ],
   "source": [
    "df_auto.isnull().any(axis=\"columns\").value_counts()"
   ]
  },
  {
   "cell_type": "markdown",
   "metadata": {},
   "source": [
    "* Imagine you need a dataset without missing values for your analysis. Would you prefer to get rid of rows with missing values of columns with missing values? Why?"
   ]
  },
  {
   "cell_type": "markdown",
   "metadata": {},
   "source": [
    "I'd rather get rid of the 3 rows with missing values, so I can keep all the columns for the remaining 200 rows."
   ]
  },
  {
   "cell_type": "markdown",
   "metadata": {},
   "source": [
    "* Create a new dataframe ``df_auto_nomissing`` containing all the rows of df_auto without missing values"
   ]
  },
  {
   "cell_type": "code",
   "execution_count": 10,
   "metadata": {},
   "outputs": [
    {
     "data": {
      "text/html": [
       "<div>\n",
       "<style scoped>\n",
       "    .dataframe tbody tr th:only-of-type {\n",
       "        vertical-align: middle;\n",
       "    }\n",
       "\n",
       "    .dataframe tbody tr th {\n",
       "        vertical-align: top;\n",
       "    }\n",
       "\n",
       "    .dataframe thead th {\n",
       "        text-align: right;\n",
       "    }\n",
       "</style>\n",
       "<table border=\"1\" class=\"dataframe\">\n",
       "  <thead>\n",
       "    <tr style=\"text-align: right;\">\n",
       "      <th></th>\n",
       "      <th>brand</th>\n",
       "      <th>fuel type</th>\n",
       "      <th>aspiration</th>\n",
       "      <th>body style</th>\n",
       "      <th>engine location</th>\n",
       "      <th>length</th>\n",
       "      <th>width</th>\n",
       "      <th>height</th>\n",
       "      <th>weight</th>\n",
       "      <th>engine capacity</th>\n",
       "      <th>compression ratio</th>\n",
       "      <th>horsepower</th>\n",
       "      <th>max rpm</th>\n",
       "      <th>city mpg</th>\n",
       "      <th>highway mpg</th>\n",
       "      <th>num cylinders</th>\n",
       "      <th>drive wheels</th>\n",
       "    </tr>\n",
       "  </thead>\n",
       "  <tbody>\n",
       "    <tr>\n",
       "      <th>1</th>\n",
       "      <td>audi</td>\n",
       "      <td>gasoline</td>\n",
       "      <td>turbo</td>\n",
       "      <td>hatchback</td>\n",
       "      <td>front</td>\n",
       "      <td>452.6</td>\n",
       "      <td>172.5</td>\n",
       "      <td>132.1</td>\n",
       "      <td>1384.8</td>\n",
       "      <td>2.1467</td>\n",
       "      <td>7.0</td>\n",
       "      <td>160.0</td>\n",
       "      <td>5500.0</td>\n",
       "      <td>6.802</td>\n",
       "      <td>9.353</td>\n",
       "      <td>5</td>\n",
       "      <td>4wd</td>\n",
       "    </tr>\n",
       "    <tr>\n",
       "      <th>2</th>\n",
       "      <td>subaru</td>\n",
       "      <td>gasoline</td>\n",
       "      <td>std</td>\n",
       "      <td>hatchback</td>\n",
       "      <td>front</td>\n",
       "      <td>399.5</td>\n",
       "      <td>162.1</td>\n",
       "      <td>141.5</td>\n",
       "      <td>1016.1</td>\n",
       "      <td>1.7698</td>\n",
       "      <td>8.7</td>\n",
       "      <td>73.0</td>\n",
       "      <td>4400.0</td>\n",
       "      <td>11.053</td>\n",
       "      <td>13.179</td>\n",
       "      <td>4</td>\n",
       "      <td>4wd</td>\n",
       "    </tr>\n",
       "    <tr>\n",
       "      <th>3</th>\n",
       "      <td>subaru</td>\n",
       "      <td>gasoline</td>\n",
       "      <td>std</td>\n",
       "      <td>sedan</td>\n",
       "      <td>front</td>\n",
       "      <td>436.9</td>\n",
       "      <td>166.1</td>\n",
       "      <td>137.9</td>\n",
       "      <td>1081.8</td>\n",
       "      <td>1.7698</td>\n",
       "      <td>9.0</td>\n",
       "      <td>82.0</td>\n",
       "      <td>4800.0</td>\n",
       "      <td>10.203</td>\n",
       "      <td>10.628</td>\n",
       "      <td>4</td>\n",
       "      <td>4wd</td>\n",
       "    </tr>\n",
       "    <tr>\n",
       "      <th>4</th>\n",
       "      <td>subaru</td>\n",
       "      <td>gasoline</td>\n",
       "      <td>turbo</td>\n",
       "      <td>sedan</td>\n",
       "      <td>front</td>\n",
       "      <td>436.9</td>\n",
       "      <td>166.1</td>\n",
       "      <td>137.9</td>\n",
       "      <td>1138.5</td>\n",
       "      <td>1.7698</td>\n",
       "      <td>7.7</td>\n",
       "      <td>111.0</td>\n",
       "      <td>4800.0</td>\n",
       "      <td>10.203</td>\n",
       "      <td>12.329</td>\n",
       "      <td>4</td>\n",
       "      <td>4wd</td>\n",
       "    </tr>\n",
       "    <tr>\n",
       "      <th>5</th>\n",
       "      <td>subaru</td>\n",
       "      <td>gasoline</td>\n",
       "      <td>std</td>\n",
       "      <td>wagon</td>\n",
       "      <td>front</td>\n",
       "      <td>440.9</td>\n",
       "      <td>166.1</td>\n",
       "      <td>139.4</td>\n",
       "      <td>1097.7</td>\n",
       "      <td>1.7698</td>\n",
       "      <td>9.0</td>\n",
       "      <td>82.0</td>\n",
       "      <td>4800.0</td>\n",
       "      <td>9.778</td>\n",
       "      <td>12.329</td>\n",
       "      <td>4</td>\n",
       "      <td>4wd</td>\n",
       "    </tr>\n",
       "  </tbody>\n",
       "</table>\n",
       "</div>"
      ],
      "text/plain": [
       "    brand fuel type aspiration body style engine location  length  width  \\\n",
       "1    audi  gasoline      turbo  hatchback           front   452.6  172.5   \n",
       "2  subaru  gasoline        std  hatchback           front   399.5  162.1   \n",
       "3  subaru  gasoline        std      sedan           front   436.9  166.1   \n",
       "4  subaru  gasoline      turbo      sedan           front   436.9  166.1   \n",
       "5  subaru  gasoline        std      wagon           front   440.9  166.1   \n",
       "\n",
       "   height  weight  engine capacity  compression ratio  horsepower  max rpm  \\\n",
       "1   132.1  1384.8           2.1467                7.0       160.0   5500.0   \n",
       "2   141.5  1016.1           1.7698                8.7        73.0   4400.0   \n",
       "3   137.9  1081.8           1.7698                9.0        82.0   4800.0   \n",
       "4   137.9  1138.5           1.7698                7.7       111.0   4800.0   \n",
       "5   139.4  1097.7           1.7698                9.0        82.0   4800.0   \n",
       "\n",
       "   city mpg  highway mpg  num cylinders drive wheels  \n",
       "1     6.802        9.353              5          4wd  \n",
       "2    11.053       13.179              4          4wd  \n",
       "3    10.203       10.628              4          4wd  \n",
       "4    10.203       12.329              4          4wd  \n",
       "5     9.778       12.329              4          4wd  "
      ]
     },
     "execution_count": 10,
     "metadata": {},
     "output_type": "execute_result"
    }
   ],
   "source": [
    "df_auto_nomissing = df_auto.dropna()\n",
    "df_auto_nomissing.head()"
   ]
  },
  {
   "cell_type": "markdown",
   "metadata": {},
   "source": [
    "* Find the different brands of cars in the dataset."
   ]
  },
  {
   "cell_type": "code",
   "execution_count": 11,
   "metadata": {},
   "outputs": [
    {
     "data": {
      "text/plain": [
       "array(['audi', 'subaru', 'toyota', 'chevrolet', 'dodge', 'honda', 'isuzu',\n",
       "       'mazda', 'mitsubishi', 'nissan', 'plymouth', 'saab', 'volkswagen',\n",
       "       'alfa-romeo', 'bmw', 'jaguar', 'mercedes-benz', 'mercury',\n",
       "       'peugeot', 'porsche', 'volvo'], dtype=object)"
      ]
     },
     "execution_count": 11,
     "metadata": {},
     "output_type": "execute_result"
    }
   ],
   "source": [
    "df_auto[\"brand\"].unique()"
   ]
  },
  {
   "cell_type": "code",
   "execution_count": 12,
   "metadata": {},
   "outputs": [
    {
     "data": {
      "text/plain": [
       "array(['4wd', 'fwd', 'rwd'], dtype=object)"
      ]
     },
     "execution_count": 12,
     "metadata": {},
     "output_type": "execute_result"
    }
   ],
   "source": [
    "df_auto[\"drive wheels\"].unique()"
   ]
  },
  {
   "cell_type": "markdown",
   "metadata": {},
   "source": [
    "* Compute common statistics (min, max, mean, std, ...) for all the numeric columns of df_auto"
   ]
  },
  {
   "cell_type": "code",
   "execution_count": 13,
   "metadata": {},
   "outputs": [
    {
     "data": {
      "text/html": [
       "<div>\n",
       "<style scoped>\n",
       "    .dataframe tbody tr th:only-of-type {\n",
       "        vertical-align: middle;\n",
       "    }\n",
       "\n",
       "    .dataframe tbody tr th {\n",
       "        vertical-align: top;\n",
       "    }\n",
       "\n",
       "    .dataframe thead th {\n",
       "        text-align: right;\n",
       "    }\n",
       "</style>\n",
       "<table border=\"1\" class=\"dataframe\">\n",
       "  <thead>\n",
       "    <tr style=\"text-align: right;\">\n",
       "      <th></th>\n",
       "      <th>length</th>\n",
       "      <th>width</th>\n",
       "      <th>height</th>\n",
       "      <th>weight</th>\n",
       "      <th>engine capacity</th>\n",
       "      <th>compression ratio</th>\n",
       "      <th>horsepower</th>\n",
       "      <th>max rpm</th>\n",
       "      <th>city mpg</th>\n",
       "      <th>highway mpg</th>\n",
       "      <th>num cylinders</th>\n",
       "    </tr>\n",
       "  </thead>\n",
       "  <tbody>\n",
       "    <tr>\n",
       "      <th>count</th>\n",
       "      <td>201.000000</td>\n",
       "      <td>202.000000</td>\n",
       "      <td>202.000000</td>\n",
       "      <td>203.000000</td>\n",
       "      <td>202.000000</td>\n",
       "      <td>202.000000</td>\n",
       "      <td>202.000000</td>\n",
       "      <td>202.000000</td>\n",
       "      <td>202.000000</td>\n",
       "      <td>202.000000</td>\n",
       "      <td>203.000000</td>\n",
       "    </tr>\n",
       "    <tr>\n",
       "      <th>mean</th>\n",
       "      <td>442.339303</td>\n",
       "      <td>167.466337</td>\n",
       "      <td>136.487129</td>\n",
       "      <td>1159.362069</td>\n",
       "      <td>2.084149</td>\n",
       "      <td>10.160000</td>\n",
       "      <td>104.534653</td>\n",
       "      <td>5125.495050</td>\n",
       "      <td>10.685168</td>\n",
       "      <td>13.025465</td>\n",
       "      <td>4.384236</td>\n",
       "    </tr>\n",
       "    <tr>\n",
       "      <th>std</th>\n",
       "      <td>31.062479</td>\n",
       "      <td>5.388569</td>\n",
       "      <td>6.221359</td>\n",
       "      <td>237.324998</td>\n",
       "      <td>0.683186</td>\n",
       "      <td>3.998689</td>\n",
       "      <td>39.613823</td>\n",
       "      <td>480.522107</td>\n",
       "      <td>2.722876</td>\n",
       "      <td>2.872592</td>\n",
       "      <td>1.085525</td>\n",
       "    </tr>\n",
       "    <tr>\n",
       "      <th>min</th>\n",
       "      <td>367.300000</td>\n",
       "      <td>157.000000</td>\n",
       "      <td>121.400000</td>\n",
       "      <td>675.000000</td>\n",
       "      <td>1.147100</td>\n",
       "      <td>7.000000</td>\n",
       "      <td>52.000000</td>\n",
       "      <td>4150.000000</td>\n",
       "      <td>5.527000</td>\n",
       "      <td>6.802000</td>\n",
       "      <td>2.000000</td>\n",
       "    </tr>\n",
       "    <tr>\n",
       "      <th>25%</th>\n",
       "      <td>422.400000</td>\n",
       "      <td>162.800000</td>\n",
       "      <td>132.100000</td>\n",
       "      <td>973.000000</td>\n",
       "      <td>1.593600</td>\n",
       "      <td>8.525000</td>\n",
       "      <td>70.000000</td>\n",
       "      <td>4800.000000</td>\n",
       "      <td>8.078000</td>\n",
       "      <td>10.628000</td>\n",
       "      <td>4.000000</td>\n",
       "    </tr>\n",
       "    <tr>\n",
       "      <th>50%</th>\n",
       "      <td>439.900000</td>\n",
       "      <td>166.400000</td>\n",
       "      <td>137.400000</td>\n",
       "      <td>1095.000000</td>\n",
       "      <td>1.958250</td>\n",
       "      <td>9.000000</td>\n",
       "      <td>95.000000</td>\n",
       "      <td>5200.000000</td>\n",
       "      <td>10.203000</td>\n",
       "      <td>12.754000</td>\n",
       "      <td>4.000000</td>\n",
       "    </tr>\n",
       "    <tr>\n",
       "      <th>75%</th>\n",
       "      <td>466.100000</td>\n",
       "      <td>169.900000</td>\n",
       "      <td>141.000000</td>\n",
       "      <td>1335.150000</td>\n",
       "      <td>2.359725</td>\n",
       "      <td>9.400000</td>\n",
       "      <td>116.000000</td>\n",
       "      <td>5500.000000</td>\n",
       "      <td>12.754000</td>\n",
       "      <td>14.455000</td>\n",
       "      <td>4.000000</td>\n",
       "    </tr>\n",
       "    <tr>\n",
       "      <th>max</th>\n",
       "      <td>528.600000</td>\n",
       "      <td>183.600000</td>\n",
       "      <td>151.900000</td>\n",
       "      <td>1844.300000</td>\n",
       "      <td>5.342200</td>\n",
       "      <td>23.000000</td>\n",
       "      <td>288.000000</td>\n",
       "      <td>6600.000000</td>\n",
       "      <td>20.832000</td>\n",
       "      <td>22.957000</td>\n",
       "      <td>12.000000</td>\n",
       "    </tr>\n",
       "  </tbody>\n",
       "</table>\n",
       "</div>"
      ],
      "text/plain": [
       "           length       width      height       weight  engine capacity  \\\n",
       "count  201.000000  202.000000  202.000000   203.000000       202.000000   \n",
       "mean   442.339303  167.466337  136.487129  1159.362069         2.084149   \n",
       "std     31.062479    5.388569    6.221359   237.324998         0.683186   \n",
       "min    367.300000  157.000000  121.400000   675.000000         1.147100   \n",
       "25%    422.400000  162.800000  132.100000   973.000000         1.593600   \n",
       "50%    439.900000  166.400000  137.400000  1095.000000         1.958250   \n",
       "75%    466.100000  169.900000  141.000000  1335.150000         2.359725   \n",
       "max    528.600000  183.600000  151.900000  1844.300000         5.342200   \n",
       "\n",
       "       compression ratio  horsepower      max rpm    city mpg  highway mpg  \\\n",
       "count         202.000000  202.000000   202.000000  202.000000   202.000000   \n",
       "mean           10.160000  104.534653  5125.495050   10.685168    13.025465   \n",
       "std             3.998689   39.613823   480.522107    2.722876     2.872592   \n",
       "min             7.000000   52.000000  4150.000000    5.527000     6.802000   \n",
       "25%             8.525000   70.000000  4800.000000    8.078000    10.628000   \n",
       "50%             9.000000   95.000000  5200.000000   10.203000    12.754000   \n",
       "75%             9.400000  116.000000  5500.000000   12.754000    14.455000   \n",
       "max            23.000000  288.000000  6600.000000   20.832000    22.957000   \n",
       "\n",
       "       num cylinders  \n",
       "count     203.000000  \n",
       "mean        4.384236  \n",
       "std         1.085525  \n",
       "min         2.000000  \n",
       "25%         4.000000  \n",
       "50%         4.000000  \n",
       "75%         4.000000  \n",
       "max        12.000000  "
      ]
     },
     "execution_count": 13,
     "metadata": {},
     "output_type": "execute_result"
    }
   ],
   "source": [
    "df_auto.describe()"
   ]
  }
 ],
 "metadata": {
  "kernelspec": {
   "display_name": "Python 3",
   "language": "python",
   "name": "python3"
  },
  "language_info": {
   "codemirror_mode": {
    "name": "ipython",
    "version": 3
   },
   "file_extension": ".py",
   "mimetype": "text/x-python",
   "name": "python",
   "nbconvert_exporter": "python",
   "pygments_lexer": "ipython3",
   "version": "3.8.3"
  }
 },
 "nbformat": 4,
 "nbformat_minor": 4
}
